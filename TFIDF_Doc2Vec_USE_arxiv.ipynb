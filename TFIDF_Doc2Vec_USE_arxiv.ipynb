{
 "cells": [
  {
   "cell_type": "code",
   "execution_count": 1,
   "id": "478a1398",
   "metadata": {},
   "outputs": [],
   "source": [
    "import pandas as pd\n",
    "import numpy as np\n",
    "import matplotlib.pyplot as plt\n",
    "import seaborn as sns\n",
    "import json\n",
    "import re\n",
    "import nltk\n",
    "\n",
    "from wordcloud import WordCloud, STOPWORDS, ImageColorGenerator\n",
    "# from nltk.stem import WordNetLemmatizer, SnowballStemmer\n",
    "from nltk.stem import WordNetLemmatizer"
   ]
  },
  {
   "cell_type": "code",
   "execution_count": 2,
   "id": "cfd0b282",
   "metadata": {
    "scrolled": true
   },
   "outputs": [],
   "source": [
    "# https://arxiv.org/help/api/user-manual\n",
    "category_map = {\n",
    "# 'cs.AI': 'Artificial Intelligence',\n",
    "# 'cs.AR': 'Hardware Architecture',\n",
    "# 'cs.CC': 'Computational Complexity',\n",
    "# 'cs.CE': 'Computational Engineering, Finance, and Science',\n",
    "# 'cs.CG': 'Computational Geometry',\n",
    "# 'cs.CL': 'Computation and Language',\n",
    "# 'cs.CR': 'Cryptography and Security',\n",
    "'cs.CV': 'Computer Vision and Pattern Recognition',\n",
    "# 'cs.CY': 'Computers and Society',\n",
    "# 'cs.DB': 'Databases',\n",
    "# 'cs.DC': 'Distributed, Parallel, and Cluster Computing',\n",
    "# 'cs.DL': 'Digital Libraries',\n",
    "# 'cs.DM': 'Discrete Mathematics',\n",
    "# 'cs.DS': 'Data Structures and Algorithms',\n",
    "# 'cs.ET': 'Emerging Technologies',\n",
    "# 'cs.FL': 'Formal Languages and Automata Theory',\n",
    "# 'cs.GL': 'General Literature',\n",
    "# 'cs.GR': 'Graphics',\n",
    "# 'cs.GT': 'Computer Science and Game Theory',\n",
    "# 'cs.HC': 'Human-Computer Interaction',\n",
    "# 'cs.IR': 'Information Retrieval',\n",
    "# 'cs.IT': 'Information Theory',\n",
    "'cs.LG': 'Machine Learning',\n",
    "# 'cs.LO': 'Logic in Computer Science',\n",
    "# 'cs.MA': 'Multiagent Systems',\n",
    "# 'cs.MM': 'Multimedia',\n",
    "# 'cs.MS': 'Mathematical Software',\n",
    "# 'cs.NA': 'Numerical Analysis',\n",
    "# 'cs.NE': 'Neural and Evolutionary Computing',\n",
    "# 'cs.NI': 'Networking and Internet Architecture',\n",
    "# 'cs.OH': 'Other Computer Science',\n",
    "# 'cs.OS': 'Operating Systems',\n",
    "# 'cs.PF': 'Performance',\n",
    "# 'cs.PL': 'Programming Languages',\n",
    "'cs.RO': 'Robotics',\n",
    "# 'cs.SC': 'Symbolic Computation',\n",
    "# 'cs.SD': 'Sound',\n",
    "# 'cs.SE': 'Software Engineering',\n",
    "# 'cs.SI': 'Social and Information Networks',\n",
    "# 'cs.SY': 'Systems and Control',\n",
    "}"
   ]
  },
  {
   "cell_type": "code",
   "execution_count": null,
   "id": "0e72255d",
   "metadata": {},
   "outputs": [],
   "source": []
  },
  {
   "cell_type": "code",
   "execution_count": 3,
   "id": "59390dbd",
   "metadata": {},
   "outputs": [],
   "source": [
    "def get_data():\n",
    "    path = 'arxiv-metadata-oai-snapshot.json'\n",
    "    file = open(path, 'r')\n",
    "    for i in file:\n",
    "        yield i\n",
    "\n",
    "        \n",
    "titles = []\n",
    "abstracts = []\n",
    "years = []\n",
    "data = get_data()"
   ]
  },
  {
   "cell_type": "code",
   "execution_count": 4,
   "id": "bb865670",
   "metadata": {
    "scrolled": true
   },
   "outputs": [],
   "source": [
    "\n",
    "cat = []\n",
    "\n",
    "for paper in data:\n",
    "    paper_dict = json.loads(paper)\n",
    "#     ref = paper_dict.get('journal-ref')\n",
    "    try:\n",
    "        if paper_dict.get('categories').split(\" \")[0] in category_map:\n",
    "#             years.append(int(ref[-4:]))\n",
    "            titles.append(paper_dict.get('title'))\n",
    "            abstracts.append(paper_dict.get('abstract'))\n",
    "            cat.append(\n",
    "                category_map[\n",
    "                    paper_dict.get('categories').split(\" \")[0]\n",
    "                ]\n",
    "            )\n",
    "#             print(paper_dict.get('title'))\n",
    "#             print(paper_dict.get('categories').split(\" \")[0])\n",
    "#             print(category_map[paper_dict.get('categories').split(\" \")[0]])\n",
    "#             print(\" \")\n",
    "    except:\n",
    "        pass\n"
   ]
  },
  {
   "cell_type": "code",
   "execution_count": 5,
   "id": "a2bb600c",
   "metadata": {},
   "outputs": [
    {
     "name": "stdout",
     "output_type": "stream",
     "text": [
      "99579\n",
      "99579\n",
      "0\n",
      "99579\n"
     ]
    }
   ],
   "source": [
    "print(len(abstracts))\n",
    "print(len(titles))\n",
    "print(len(years))\n",
    "print(len(cat))"
   ]
  },
  {
   "cell_type": "code",
   "execution_count": 6,
   "id": "91220f93",
   "metadata": {
    "scrolled": true
   },
   "outputs": [],
   "source": [
    "arxiv_df = pd.DataFrame({'title':titles, 'abstract':abstracts, 'category':cat})"
   ]
  },
  {
   "cell_type": "code",
   "execution_count": 7,
   "id": "aef76e09",
   "metadata": {},
   "outputs": [
    {
     "data": {
      "text/plain": [
       "(99579, 3)"
      ]
     },
     "execution_count": 7,
     "metadata": {},
     "output_type": "execute_result"
    }
   ],
   "source": [
    "arxiv_df.shape"
   ]
  },
  {
   "cell_type": "code",
   "execution_count": 8,
   "id": "c581bf69",
   "metadata": {},
   "outputs": [],
   "source": [
    "rob_paper1 = 'The Kinematic design of a 3-dof Hybrid Manipulator'\n",
    "rob_paper2 =  'Bipedal Walking Robot using Deep Deterministic Policy Gradient'\n",
    "rob_paper3 =  'Learning Quadrupedal Locomotion over Challenging Terrain'\n",
    "\n",
    "ml_paper1 =  'Playing Atari with Deep Reinforcement Learning'\n",
    "ml_paper2 = 'Proximal Policy Optimization Algorithms'\n",
    "ml_paper3 =  'Machine Learning for Structured Clinical Data'\n",
    "\n",
    "# for i in arxiv_df[arxiv_df['category']=='Robotics']['title']:\n",
    "#     print(i)"
   ]
  },
  {
   "cell_type": "code",
   "execution_count": 9,
   "id": "a9f50cc2",
   "metadata": {},
   "outputs": [],
   "source": [
    "lemmatizer = WordNetLemmatizer()\n",
    "\n",
    "from nltk.corpus import stopwords\n",
    "\n",
    "stop_words = set(stopwords.words('english'))\n",
    "stop_words.add('n')\n",
    "stop_words.add('k')\n",
    "\n",
    "def clean_text(text):\n",
    "    text = re.sub(\"[^a-zA-Z]\", \" \", text)\n",
    "    text = ' '.join(text.split())\n",
    "    text = text.lower()\n",
    "    temp_sent =[]\n",
    "    words = nltk.word_tokenize(text)\n",
    "    for i, word in enumerate(words):\n",
    "        lemmatized = lemmatizer.lemmatize(word)\n",
    "        if lemmatized not in stop_words and lemmatized.isalpha():\n",
    "            temp_sent.append(lemmatized)\n",
    "\n",
    "    finalsent = ' '.join(temp_sent)\n",
    "    return finalsent\n",
    "  "
   ]
  },
  {
   "cell_type": "code",
   "execution_count": 10,
   "id": "70be9ae6",
   "metadata": {
    "scrolled": true
   },
   "outputs": [],
   "source": [
    "# creating clean text feature\n",
    "features = ['title', 'abstract']\n",
    "for feature in features:\n",
    "    arxiv_df['clean_' + feature] = arxiv_df[feature].apply(clean_text)"
   ]
  },
  {
   "cell_type": "code",
   "execution_count": 11,
   "id": "5d640262",
   "metadata": {
    "scrolled": false
   },
   "outputs": [
    {
     "data": {
      "text/html": [
       "<div>\n",
       "<style scoped>\n",
       "    .dataframe tbody tr th:only-of-type {\n",
       "        vertical-align: middle;\n",
       "    }\n",
       "\n",
       "    .dataframe tbody tr th {\n",
       "        vertical-align: top;\n",
       "    }\n",
       "\n",
       "    .dataframe thead th {\n",
       "        text-align: right;\n",
       "    }\n",
       "</style>\n",
       "<table border=\"1\" class=\"dataframe\">\n",
       "  <thead>\n",
       "    <tr style=\"text-align: right;\">\n",
       "      <th></th>\n",
       "      <th>title</th>\n",
       "      <th>abstract</th>\n",
       "      <th>category</th>\n",
       "      <th>clean_title</th>\n",
       "      <th>clean_abstract</th>\n",
       "    </tr>\n",
       "  </thead>\n",
       "  <tbody>\n",
       "    <tr>\n",
       "      <th>0</th>\n",
       "      <td>The on-line shortest path problem under partia...</td>\n",
       "      <td>The on-line shortest path problem is conside...</td>\n",
       "      <td>Machine Learning</td>\n",
       "      <td>line shortest path problem partial monitoring</td>\n",
       "      <td>line shortest path problem considered various ...</td>\n",
       "    </tr>\n",
       "    <tr>\n",
       "      <th>1</th>\n",
       "      <td>A neural network approach to ordinal regression</td>\n",
       "      <td>Ordinal regression is an important type of l...</td>\n",
       "      <td>Machine Learning</td>\n",
       "      <td>neural network approach ordinal regression</td>\n",
       "      <td>ordinal regression important type learning ha ...</td>\n",
       "    </tr>\n",
       "    <tr>\n",
       "      <th>2</th>\n",
       "      <td>Text Line Segmentation of Historical Documents...</td>\n",
       "      <td>There is a huge amount of historical documen...</td>\n",
       "      <td>Computer Vision and Pattern Recognition</td>\n",
       "      <td>text line segmentation historical document survey</td>\n",
       "      <td>huge amount historical document library variou...</td>\n",
       "    </tr>\n",
       "    <tr>\n",
       "      <th>3</th>\n",
       "      <td>Parametric Learning and Monte Carlo Optimization</td>\n",
       "      <td>This paper uncovers and explores the close r...</td>\n",
       "      <td>Machine Learning</td>\n",
       "      <td>parametric learning monte carlo optimization</td>\n",
       "      <td>paper uncovers explores close relationship mon...</td>\n",
       "    </tr>\n",
       "    <tr>\n",
       "      <th>4</th>\n",
       "      <td>Preconditioned Temporal Difference Learning</td>\n",
       "      <td>This paper has been withdrawn by the author....</td>\n",
       "      <td>Machine Learning</td>\n",
       "      <td>preconditioned temporal difference learning</td>\n",
       "      <td>paper ha withdrawn author draft withdrawn poor...</td>\n",
       "    </tr>\n",
       "  </tbody>\n",
       "</table>\n",
       "</div>"
      ],
      "text/plain": [
       "                                               title  \\\n",
       "0  The on-line shortest path problem under partia...   \n",
       "1    A neural network approach to ordinal regression   \n",
       "2  Text Line Segmentation of Historical Documents...   \n",
       "3   Parametric Learning and Monte Carlo Optimization   \n",
       "4        Preconditioned Temporal Difference Learning   \n",
       "\n",
       "                                            abstract  \\\n",
       "0    The on-line shortest path problem is conside...   \n",
       "1    Ordinal regression is an important type of l...   \n",
       "2    There is a huge amount of historical documen...   \n",
       "3    This paper uncovers and explores the close r...   \n",
       "4    This paper has been withdrawn by the author....   \n",
       "\n",
       "                                  category  \\\n",
       "0                         Machine Learning   \n",
       "1                         Machine Learning   \n",
       "2  Computer Vision and Pattern Recognition   \n",
       "3                         Machine Learning   \n",
       "4                         Machine Learning   \n",
       "\n",
       "                                         clean_title  \\\n",
       "0      line shortest path problem partial monitoring   \n",
       "1         neural network approach ordinal regression   \n",
       "2  text line segmentation historical document survey   \n",
       "3       parametric learning monte carlo optimization   \n",
       "4        preconditioned temporal difference learning   \n",
       "\n",
       "                                      clean_abstract  \n",
       "0  line shortest path problem considered various ...  \n",
       "1  ordinal regression important type learning ha ...  \n",
       "2  huge amount historical document library variou...  \n",
       "3  paper uncovers explores close relationship mon...  \n",
       "4  paper ha withdrawn author draft withdrawn poor...  "
      ]
     },
     "execution_count": 11,
     "metadata": {},
     "output_type": "execute_result"
    }
   ],
   "source": [
    "arxiv_df.head()"
   ]
  },
  {
   "cell_type": "code",
   "execution_count": 12,
   "id": "b22feb41",
   "metadata": {},
   "outputs": [],
   "source": [
    "arxiv_df['titract'] = arxiv_df['clean_title']+' ' + arxiv_df['clean_abstract']"
   ]
  },
  {
   "cell_type": "code",
   "execution_count": 13,
   "id": "82b807dd",
   "metadata": {},
   "outputs": [],
   "source": [
    "from sklearn.feature_extraction.text import TfidfVectorizer\n",
    "\n",
    "tfidfvec = TfidfVectorizer()\n",
    "tfidf_titract = tfidfvec.fit_transform(arxiv_df['titract'])\n",
    "\n",
    "from sklearn.metrics.pairwise import cosine_similarity\n",
    "cos_sim = cosine_similarity(tfidf_titract, tfidf_titract)"
   ]
  },
  {
   "cell_type": "code",
   "execution_count": 14,
   "id": "3763393a",
   "metadata": {},
   "outputs": [],
   "source": [
    "# np.save(\"../cos_sim.npy\", cos_sim)\n",
    "# cos_sim = np.load('../cos_sim.npy')"
   ]
  },
  {
   "cell_type": "code",
   "execution_count": 15,
   "id": "daf6711c",
   "metadata": {},
   "outputs": [
    {
     "data": {
      "text/plain": [
       "(99579, 99579)"
      ]
     },
     "execution_count": 15,
     "metadata": {},
     "output_type": "execute_result"
    }
   ],
   "source": [
    "# 79GB !!!\n",
    "cos_sim.shape"
   ]
  },
  {
   "cell_type": "code",
   "execution_count": 16,
   "id": "98a6ec12",
   "metadata": {},
   "outputs": [],
   "source": [
    "a_df = arxiv_df.set_index('title')\n",
    "indices = pd.Series(a_df.index)\n",
    "  \n",
    "def get_recommendations(query, cosine_sim):\n",
    "    rec_papers = []\n",
    "    index = indices[indices==query].index[0]\n",
    "    sim_socres = pd.Series(cos_sim[index]).sort_values(ascending=False)\n",
    "    top_papers = list(sim_socres.iloc[1:11].index)\n",
    "    for i in top_papers:\n",
    "        rec_papers.append(list(a_df.index)[i])\n",
    "    return rec_papers\n"
   ]
  },
  {
   "cell_type": "code",
   "execution_count": 17,
   "id": "dd3cdb5a",
   "metadata": {
    "scrolled": true
   },
   "outputs": [
    {
     "name": "stdout",
     "output_type": "stream",
     "text": [
      "query:  A neural network approach to ordinal regression\n"
     ]
    },
    {
     "data": {
      "text/plain": [
       "['Convolutional Ordinal Regression Forest for Image Ordinal Estimation',\n",
       " 'Transductive Ordinal Regression',\n",
       " 'Robust Deep Ordinal Regression Under Label Noise',\n",
       " 'Rank consistent ordinal regression for neural networks with application\\n  to age estimation',\n",
       " 'Tackling Ordinal Regression Problem for Heterogeneous Data: Sparse and\\n  Deep Multi-Task Learning Approaches',\n",
       " 'Ordinal Regression as Structured Classification',\n",
       " 'Semi-Supervised Ordinal Regression Based on Empirical Risk Minimization',\n",
       " 'Deep Ordinal Reinforcement Learning',\n",
       " 'Learning Probabilistic Ordinal Embeddings for Uncertainty-Aware\\n  Regression',\n",
       " 'Meta ordinal weighting net for improving lung nodule classification']"
      ]
     },
     "execution_count": 17,
     "metadata": {},
     "output_type": "execute_result"
    }
   ],
   "source": [
    "print(\"query: \",'A neural network approach to ordinal regression')\n",
    "get_recommendations('A neural network approach to ordinal regression', cos_sim)"
   ]
  },
  {
   "cell_type": "code",
   "execution_count": 18,
   "id": "65276c8c",
   "metadata": {},
   "outputs": [
    {
     "name": "stdout",
     "output_type": "stream",
     "text": [
      "query:  The Kinematic design of a 3-dof Hybrid Manipulator\n"
     ]
    },
    {
     "data": {
      "text/plain": [
       "['Working Modes and Aspects in Fully-Parallel Manipulator',\n",
       " 'Uniqueness Domains in the Workspace of Parallel Manipulators',\n",
       " 'The Kinematic Analysis of a Symmetrical Three-Degree-of-Freedom Planar\\n  Parallel Manipulator',\n",
       " 'Topology Design and Position Analysis of a Reconfigurable Modular\\n  Hybrid-Parallel Manipulator',\n",
       " 'Definition sets for the Direct Kinematics of Parallel Manipulators',\n",
       " 'The Kinematics of Manipulators Built From Closed Planar Mechanisms',\n",
       " 'Singularity Surfaces and Maximal Singularity-Free Boxes in the Joint\\n  Space of Planar 3-RPR Parallel Manipulators',\n",
       " 'Kinematic analysis of the 3-RPR parallel manipulator',\n",
       " 'Moveability and Collision Analysis for Fully-Parallel Manipulators',\n",
       " 'Singularity Analysis of Lower-Mobility Parallel Manipulators Using\\n  Grassmann-Cayley Algebra']"
      ]
     },
     "execution_count": 18,
     "metadata": {},
     "output_type": "execute_result"
    }
   ],
   "source": [
    "print(\"query: \",rob_paper1)\n",
    "get_recommendations(rob_paper1, cos_sim)"
   ]
  },
  {
   "cell_type": "code",
   "execution_count": 19,
   "id": "199f8264",
   "metadata": {},
   "outputs": [
    {
     "name": "stdout",
     "output_type": "stream",
     "text": [
      "query:  Bipedal Walking Robot using Deep Deterministic Policy Gradient\n"
     ]
    },
    {
     "data": {
      "text/plain": [
       "['Hybrid Zero Dynamics Inspired Feedback Control Policy Design for 3D\\n  Bipedal Locomotion using Reinforcement Learning',\n",
       " 'Dynamic Walking: Toward Agile and Efficient Bipedal Robots',\n",
       " 'Reinforcement Learning for Robust Parameterized Locomotion Control of\\n  Bipedal Robots',\n",
       " 'Robust Bipedal Locomotion Control Based on Model Predictive Control and\\n  Divergent Component of Motion',\n",
       " 'Learning Linear Policies for Robust Bipedal Locomotion on Terrains with\\n  Varying Slopes',\n",
       " '3D Underactuated Bipedal Walking via H-LIP based Gait Synthesis and\\n  Stepping Stabilization',\n",
       " 'Impact-Aware Online Motion Planning for Fully-Actuated Bipedal Robot\\n  Walking',\n",
       " 'Pattern Generation for Walking on Slippery Terrains',\n",
       " 'Self-synchronization and Self-stabilization of 3D Bipedal Walking Gaits',\n",
       " 'Capture Steps: Robust Walking for Humanoid Robots']"
      ]
     },
     "execution_count": 19,
     "metadata": {},
     "output_type": "execute_result"
    }
   ],
   "source": [
    "print(\"query: \",rob_paper2)\n",
    "get_recommendations(rob_paper2, cos_sim)"
   ]
  },
  {
   "cell_type": "code",
   "execution_count": 20,
   "id": "8219ea61",
   "metadata": {},
   "outputs": [
    {
     "name": "stdout",
     "output_type": "stream",
     "text": [
      "query:  Learning Quadrupedal Locomotion over Challenging Terrain\n"
     ]
    },
    {
     "data": {
      "text/plain": [
       "['Reactive Task and Motion Planning for Robust Whole-Body Dynamic\\n  Locomotion in Constrained Environments',\n",
       " 'RLOC: Terrain-Aware Legged Locomotion using Reinforcement Learning and\\n  Optimal Control',\n",
       " 'Learning Vision-Guided Quadrupedal Locomotion End-to-End with\\n  Cross-Modal Transformers',\n",
       " 'Zero-Shot Terrain Generalization for Visual Locomotion Policies',\n",
       " 'Oncilla robot: a versatile open-source quadruped research robot with\\n  compliant pantograph legs',\n",
       " 'Autonomous Locomotion Mode Transition Simulation of a Track-legged\\n  Quadruped Robot Step Negotiation',\n",
       " 'GLiDE: Generalizable Quadrupedal Locomotion in Diverse Environments with\\n  a Centroidal Model',\n",
       " 'Optimization-Based Quadrupedal Hybrid Wheeled-Legged Locomotion',\n",
       " 'Rolling in the Deep -- Hybrid Locomotion for Wheeled-Legged Robots using\\n  Online Trajectory Optimization',\n",
       " 'Learning agile and dynamic motor skills for legged robots']"
      ]
     },
     "execution_count": 20,
     "metadata": {},
     "output_type": "execute_result"
    }
   ],
   "source": [
    "print(\"query: \",rob_paper3)\n",
    "get_recommendations(rob_paper3, cos_sim)"
   ]
  },
  {
   "cell_type": "code",
   "execution_count": 21,
   "id": "a6266ac7",
   "metadata": {},
   "outputs": [
    {
     "name": "stdout",
     "output_type": "stream",
     "text": [
      "query:  Playing Atari with Deep Reinforcement Learning\n"
     ]
    },
    {
     "data": {
      "text/plain": [
       "['Distributed Deep Q-Learning',\n",
       " 'Model-Based Reinforcement Learning for Atari',\n",
       " 'Object-sensitive Deep Reinforcement Learning',\n",
       " 'Reinforcement Learning and Video Games',\n",
       " 'Reward learning from human preferences and demonstrations in Atari',\n",
       " 'Deep Reinforcement Learning With Macro-Actions',\n",
       " 'Visual Transfer between Atari Games using Competitive Reinforcement\\n  Learning',\n",
       " 'Observe and Look Further: Achieving Consistent Performance on Atari',\n",
       " 'Transformer Based Reinforcement Learning For Games',\n",
       " 'Action-Conditional Video Prediction using Deep Networks in Atari Games']"
      ]
     },
     "execution_count": 21,
     "metadata": {},
     "output_type": "execute_result"
    }
   ],
   "source": [
    "print(\"query: \",ml_paper1)\n",
    "get_recommendations(ml_paper1, cos_sim)"
   ]
  },
  {
   "cell_type": "code",
   "execution_count": 22,
   "id": "c3ec28ec",
   "metadata": {},
   "outputs": [
    {
     "name": "stdout",
     "output_type": "stream",
     "text": [
      "query:  Proximal Policy Optimization Algorithms\n"
     ]
    },
    {
     "data": {
      "text/plain": [
       "['An Adaptive Clipping Approach for Proximal Policy Optimization',\n",
       " 'Proximal Policy Optimization Smoothed Algorithm',\n",
       " 'Proximal Policy Gradient: PPO with Policy Gradient',\n",
       " 'Truly Proximal Policy Optimization',\n",
       " 'Interpolated Policy Gradient: Merging On-Policy and Off-Policy Gradient\\n  Estimation for Deep Reinforcement Learning',\n",
       " 'Optimistic Distributionally Robust Policy Optimization',\n",
       " 'Supervised Policy Update for Deep Reinforcement Learning',\n",
       " 'Trust Region-Guided Proximal Policy Optimization',\n",
       " 'Neural Proximal/Trust Region Policy Optimization Attains Globally\\n  Optimal Policy',\n",
       " 'A Logarithmic Barrier Method For Proximal Policy Optimization']"
      ]
     },
     "execution_count": 22,
     "metadata": {},
     "output_type": "execute_result"
    }
   ],
   "source": [
    "print(\"query: \",ml_paper2)\n",
    "get_recommendations(ml_paper2, cos_sim)"
   ]
  },
  {
   "cell_type": "code",
   "execution_count": 23,
   "id": "cb8329c5",
   "metadata": {},
   "outputs": [
    {
     "name": "stdout",
     "output_type": "stream",
     "text": [
      "query:  Machine Learning for Structured Clinical Data\n"
     ]
    },
    {
     "data": {
      "text/plain": [
       "['Representation Learning for Electronic Health Records',\n",
       " 'Unsupervised Extraction of Phenotypes from Cancer Clinical Notes for\\n  Association Studies',\n",
       " 'Understanding Heart-Failure Patients EHR Clinical Features via SHAP\\n  Interpretation of Tree-Based Machine Learning Model Predictions',\n",
       " 'Deep Representation Learning of Patient Data from Electronic Health\\n  Records (EHR): A Systematic Review',\n",
       " 'Longitudinal modeling of MS patient trajectories improves predictions of\\n  disability progression',\n",
       " 'Neural Clinical Event Sequence Prediction through Personalized Online\\n  Adaptive Learning',\n",
       " 'Clinically Meaningful Comparisons Over Time: An Approach to Measuring\\n  Patient Similarity based on Subsequence Alignment',\n",
       " 'Learning from Clinical Judgments: Semi-Markov-Modulated Marked Hawkes\\n  Processes for Risk Prognosis',\n",
       " 'A Probabilistic Disease Progression Model for Predicting Future Clinical\\n  Outcome',\n",
       " \"Forecasting the Progression of Alzheimer's Disease Using Neural Networks\\n  and a Novel Pre-Processing Algorithm\"]"
      ]
     },
     "execution_count": 23,
     "metadata": {},
     "output_type": "execute_result"
    }
   ],
   "source": [
    "print(\"query: \",ml_paper3)\n",
    "get_recommendations(ml_paper3, cos_sim)"
   ]
  },
  {
   "cell_type": "code",
   "execution_count": 24,
   "id": "9e8bb652",
   "metadata": {},
   "outputs": [],
   "source": [
    "def random_color_func(word=None, font_size=None, position=None,\n",
    "                      orientation=None, font_path=None, random_state=None):\n",
    "    h = int(360.0 * 55.0 / 255.0)\n",
    "    s = int(100.0 * 255.0 / 255.0)\n",
    "    l = int(100.0 * float(random_state.randint(70, 120)) / 255.0)\n",
    "    return \"hsl({}, {}%, {}%)\".format(h, s, l)\n",
    "\n",
    "def freq_words(x, terms = 30):\n",
    "    all_words = ' '.join([text for text in x])\n",
    "    all_words = all_words.split()\n",
    "    \n",
    "    freq_dist = nltk.FreqDist(all_words)\n",
    "    words_df = pd.DataFrame({'word':list(freq_dist.keys()), 'count':list(freq_dist.values())})\n",
    "    \n",
    "    fig = plt.figure(figsize=(8,6))\n",
    "    ax2 = fig.add_subplot(1,1,1)\n",
    "    d = words_df.nlargest(columns=\"count\", n = terms) \n",
    "    ax2 = sns.barplot(data=d, palette = sns.color_palette('pastel'), x= \"count\", y = \"word\")\n",
    "    ax2.set(ylabel= 'Word')\n",
    "    plt.show()"
   ]
  },
  {
   "cell_type": "code",
   "execution_count": 25,
   "id": "79a304a1",
   "metadata": {
    "scrolled": false
   },
   "outputs": [
    {
     "data": {
      "image/png": "[encoded data removed]",
      "text/plain": [
       "<Figure size 576x432 with 1 Axes>"
      ]
     },
     "metadata": {
      "needs_background": "light"
     },
     "output_type": "display_data"
    }
   ],
   "source": [
    "freq_words(arxiv_df['titract'], 25)"
   ]
  },
  {
   "cell_type": "code",
   "execution_count": 26,
   "id": "668b006d",
   "metadata": {
    "scrolled": true
   },
   "outputs": [
    {
     "data": {
      "text/plain": [
       "{'Computer Vision and Pattern Recognition', 'Machine Learning', 'Robotics'}"
      ]
     },
     "execution_count": 26,
     "metadata": {},
     "output_type": "execute_result"
    }
   ],
   "source": [
    "(set(arxiv_df['category']))"
   ]
  },
  {
   "cell_type": "code",
   "execution_count": 48,
   "id": "cb67948b",
   "metadata": {},
   "outputs": [],
   "source": [
    "from nltk.tokenize import word_tokenize\n",
    "from gensim.models.doc2vec import Doc2Vec, TaggedDocument\n",
    "\n"
   ]
  },
  {
   "cell_type": "code",
   "execution_count": 49,
   "id": "d6eafef9",
   "metadata": {
    "scrolled": true
   },
   "outputs": [],
   "source": [
    "# data = {}\n",
    "# for idx, line in arxiv_df.iterrows():\n",
    "#     data[line['title']] = line['titract']\n",
    "    "
   ]
  },
  {
   "cell_type": "code",
   "execution_count": 50,
   "id": "7483a3c9",
   "metadata": {},
   "outputs": [],
   "source": [
    "arxiv_df['titract_nc'] = arxiv_df['title']+' ' + arxiv_df['abstract']\n",
    "\n",
    "data = {}\n",
    "for idx, line in arxiv_df.iterrows():\n",
    "    data[line['title']] = line['titract_nc']\n",
    "    "
   ]
  },
  {
   "cell_type": "code",
   "execution_count": 56,
   "id": "7bbf2c31",
   "metadata": {
    "scrolled": true
   },
   "outputs": [],
   "source": [
    "documents = [TaggedDocument((word_tokenize(data[tag])), tags=[tag]) for tag in data.keys()]\n",
    "\n",
    "d2v_model = Doc2Vec(vector_size=400, alpha=0.025, min_count=4, dm=1, epochs=80)\n",
    "d2v_model.build_vocab(documents)"
   ]
  },
  {
   "cell_type": "code",
   "execution_count": 57,
   "id": "ee490699",
   "metadata": {
    "scrolled": true
   },
   "outputs": [],
   "source": [
    "# d2v_model.train(documents, total_examples=d2v_model.corpus_count, epochs=d2v_model.epochs)\n",
    "\n",
    "# d2v_model.save(\"d2v.model\")"
   ]
  },
  {
   "cell_type": "code",
   "execution_count": 58,
   "id": "b9811c8f",
   "metadata": {
    "scrolled": false
   },
   "outputs": [],
   "source": [
    "# d2v_model = Doc2Vec.load('d2v.model')\n",
    "\n",
    "def get_recommendations_d2v(query):\n",
    "    print(\"query: \",query,'\\n')\n",
    "\n",
    "    doc_vec = d2v_model.infer_vector(word_tokenize(query))\n",
    "#     print(\"doc_vec: \",doc_vec)\n",
    "\n",
    "    similarity = d2v_model.dv.most_similar([doc_vec])\n",
    "    result = []\n",
    "    for i in similarity:\n",
    "        result.append(i[0])\n",
    "    return result"
   ]
  },
  {
   "cell_type": "code",
   "execution_count": 59,
   "id": "bb3fd759",
   "metadata": {},
   "outputs": [
    {
     "name": "stdout",
     "output_type": "stream",
     "text": [
      "query:  The Kinematic design of a 3-dof Hybrid Manipulator \n",
      "\n"
     ]
    },
    {
     "data": {
      "text/plain": [
       "['The Effect of Class Definitions on the Transferability of Adversarial\\n  Attacks Against Forensic CNNs',\n",
       " 'Seeing Out of tHe bOx: End-to-End Pre-training for Vision-Language\\n  Representation Learning',\n",
       " 'Pattern Detection in the Activation Space for Identifying Synthesized\\n  Content',\n",
       " 'Discriminative Video Representation Learning Using Support Vector\\n  Classifiers',\n",
       " 'Data Poisoning against Differentially-Private Learners: Attacks and\\n  Defenses',\n",
       " 'A Framework for Evaluating Motion Segmentation Algorithms',\n",
       " 'WhONet: Wheel Odometry Neural Network for Vehicular Localisation in\\n  GNSS-Deprived Environments',\n",
       " 'Anatomical Data Augmentation via Fluid-based Image Registration',\n",
       " 'Refine and Distill: Exploiting Cycle-Inconsistency and Knowledge\\n  Distillation for Unsupervised Monocular Depth Estimation',\n",
       " 'A Review on Image Texture Analysis Methods']"
      ]
     },
     "execution_count": 59,
     "metadata": {},
     "output_type": "execute_result"
    }
   ],
   "source": [
    "get_recommendations_d2v(rob_paper1)"
   ]
  },
  {
   "cell_type": "code",
   "execution_count": 60,
   "id": "18601e58",
   "metadata": {},
   "outputs": [],
   "source": [
    "# get_recommendations(rob_paper1, cos_sim)"
   ]
  },
  {
   "cell_type": "code",
   "execution_count": 61,
   "id": "22903079",
   "metadata": {},
   "outputs": [
    {
     "name": "stdout",
     "output_type": "stream",
     "text": [
      "query:  Bipedal Walking Robot using Deep Deterministic Policy Gradient \n",
      "\n"
     ]
    },
    {
     "data": {
      "text/plain": [
       "['Spatiotemporal Stacked Sequential Learning for Pedestrian Detection',\n",
       " 'Online Robust Sliding-Windowed LiDAR SLAM in Natural Environments',\n",
       " 'Improving the Expressive Power of Graph Neural Network with Tinhofer\\n  Algorithm',\n",
       " 'A Study into the similarity in generator and discriminator in GAN\\n  architecture',\n",
       " 'Occupancy Map Building through Bayesian Exploration',\n",
       " 'A Graph Theoretic Additive Approximation of Optimal Transport',\n",
       " 'Universal time-series forecasting with mixture predictors',\n",
       " 'Task Planning on Stochastic Aisle Graphs for Precision Agriculture',\n",
       " 'Learning and Reasoning with Action-Related Places for Robust Mobile\\n  Manipulation',\n",
       " 'Temporal HeartNet: Towards Human-Level Automatic Analysis of Fetal\\n  Cardiac Screening Video']"
      ]
     },
     "execution_count": 61,
     "metadata": {},
     "output_type": "execute_result"
    }
   ],
   "source": [
    "get_recommendations_d2v(rob_paper2)"
   ]
  },
  {
   "cell_type": "code",
   "execution_count": 62,
   "id": "9322b82b",
   "metadata": {},
   "outputs": [
    {
     "name": "stdout",
     "output_type": "stream",
     "text": [
      "query:  Learning Quadrupedal Locomotion over Challenging Terrain \n",
      "\n"
     ]
    },
    {
     "data": {
      "text/plain": [
       "['Learning to Transfer: Unsupervised Meta Domain Translation',\n",
       " 'Efficient Behavior-aware Control of Automated Vehicles at Crosswalks\\n  using Minimal Information Pedestrian Prediction Model',\n",
       " 'Learning Raw Image Denoising with Bayer Pattern Unification and Bayer\\n  Preserving Augmentation',\n",
       " 'Does elderly enjoy playing Bingo with a robot? A case study with the\\n  humanoid robot Nadine',\n",
       " 'Identity Enhanced Residual Image Denoising',\n",
       " 'Fibres of Failure: Classifying errors in predictive processes',\n",
       " 'Improving the Expressiveness of Deep Learning Frameworks with Recursion',\n",
       " 'Machine learning methods for multimedia information retrieval',\n",
       " 'On Counterfactual Explanations under Predictive Multiplicity',\n",
       " 'Missingness Augmentation: A General Approach for Improving Generative\\n  Imputation Models']"
      ]
     },
     "execution_count": 62,
     "metadata": {},
     "output_type": "execute_result"
    }
   ],
   "source": [
    "get_recommendations_d2v(rob_paper3)"
   ]
  },
  {
   "cell_type": "code",
   "execution_count": 63,
   "id": "dd3a073a",
   "metadata": {},
   "outputs": [
    {
     "name": "stdout",
     "output_type": "stream",
     "text": [
      "query:  Playing Atari with Deep Reinforcement Learning \n",
      "\n"
     ]
    },
    {
     "data": {
      "text/plain": [
       "['Classification Under Misspecification: Halfspaces, Generalized Linear\\n  Models, and Connections to Evolvability',\n",
       " 'Collective Intelligence for Control of Distributed Dynamical Systems',\n",
       " 'Automated Radiological Report Generation For Chest X-Rays With\\n  Weakly-Supervised End-to-End Deep Learning',\n",
       " 'Automatic Cause Detection of Performance Problems in Web Applications',\n",
       " 'Semi-supervised semantic segmentation needs strong, varied perturbations',\n",
       " 'Gradual Domain Adaptation in the Wild:When Intermediate Distributions\\n  are Absent',\n",
       " 'Self-Supervised Structure-from-Motion through Tightly-Coupled Depth and\\n  Egomotion Networks',\n",
       " 'V3H: View Variation and View Heredity for Incomplete Multi-view\\n  Clustering',\n",
       " 'Scalable Inference of Sparsely-changing Markov Random Fields with Strong\\n  Statistical Guarantees',\n",
       " 'Random Feature Maps via a Layered Random Projection (LaRP) Framework for\\n  Object Classification']"
      ]
     },
     "execution_count": 63,
     "metadata": {},
     "output_type": "execute_result"
    }
   ],
   "source": [
    "get_recommendations_d2v(ml_paper1)"
   ]
  },
  {
   "cell_type": "code",
   "execution_count": 64,
   "id": "6002b647",
   "metadata": {},
   "outputs": [
    {
     "name": "stdout",
     "output_type": "stream",
     "text": [
      "query:  Proximal Policy Optimization Algorithms \n",
      "\n"
     ]
    },
    {
     "data": {
      "text/plain": [
       "['Rotate-and-Render: Unsupervised Photorealistic Face Rotation from\\n  Single-View Images',\n",
       " 'Hierarchical multi-class segmentation of glioma images using networks\\n  with multi-level activation function',\n",
       " 'GeLaTO: Generative Latent Textured Objects',\n",
       " 'Convolutional Neural Networks based Intra Prediction for HEVC',\n",
       " \"Beyond the Self: Using Grounded Affordances to Interpret and Describe\\n  Others' Actions\",\n",
       " 'Graph Classification with 2D Convolutional Neural Networks',\n",
       " 'Visual Saliency Model using SIFT and Comparison of Learning Approaches',\n",
       " 'Planning Nonlinear Access Paths for Temporal Bone Surgery',\n",
       " 'Real Time Multi-Class Object Detection and Recognition Using Vision\\n  Augmentation Algorithm',\n",
       " 'A Novel Dual-Lidar Calibration Algorithm Using Planar Surfaces']"
      ]
     },
     "execution_count": 64,
     "metadata": {},
     "output_type": "execute_result"
    }
   ],
   "source": [
    "get_recommendations_d2v(ml_paper2)"
   ]
  },
  {
   "cell_type": "code",
   "execution_count": 65,
   "id": "29b71f49",
   "metadata": {},
   "outputs": [
    {
     "name": "stdout",
     "output_type": "stream",
     "text": [
      "query:  Machine Learning for Structured Clinical Data \n",
      "\n"
     ]
    },
    {
     "data": {
      "text/plain": [
       "['Adversarial Diversity and Hard Positive Generation',\n",
       " 'An Analytical Lidar Sensor Model Based on Ray Path Information',\n",
       " 'Domain-Invariant Projection Learning for Zero-Shot Recognition',\n",
       " 'Occlusion-guided compact template learning for ensemble deep\\n  network-based pose-invariant face recognition',\n",
       " 'Dropout: Explicit Forms and Capacity Control',\n",
       " \"Formalizing Neurath's Ship: Approximate Algorithms for Online Causal\\n  Learning\",\n",
       " 'A New Vision of Collaborative Active Learning',\n",
       " 'Dimensionality-Driven Learning with Noisy Labels',\n",
       " 'End-to-end Hand Mesh Recovery from a Monocular RGB Image',\n",
       " 'MATCHA: Speeding Up Decentralized SGD via Matching Decomposition\\n  Sampling']"
      ]
     },
     "execution_count": 65,
     "metadata": {},
     "output_type": "execute_result"
    }
   ],
   "source": [
    "get_recommendations_d2v(ml_paper3)"
   ]
  },
  {
   "cell_type": "code",
   "execution_count": null,
   "id": "6ae76c67",
   "metadata": {},
   "outputs": [],
   "source": []
  },
  {
   "cell_type": "code",
   "execution_count": 13,
   "id": "e6e55ae8",
   "metadata": {},
   "outputs": [],
   "source": [
    "import tensorflow_hub as hub\n",
    "\n",
    "module_url = \"https://tfhub.dev/google/universal-sentence-encoder-large/5\" \n",
    "embed = hub.load(module_url)\n"
   ]
  },
  {
   "cell_type": "code",
   "execution_count": 14,
   "id": "61bd3ca1",
   "metadata": {
    "scrolled": true
   },
   "outputs": [],
   "source": [
    "arxiv_df['titract_nc'] = arxiv_df['title']+' ' + arxiv_df['abstract']\n",
    "\n",
    "df = arxiv_df.sample(n=50000, random_state=42)\n",
    "\n",
    "use_embedding = embed(df['titract_nc'].to_list())"
   ]
  },
  {
   "cell_type": "code",
   "execution_count": 15,
   "id": "cd27f6d4",
   "metadata": {
    "collapsed": true
   },
   "outputs": [
    {
     "name": "stdout",
     "output_type": "stream",
     "text": [
      "search_token:  human trajectory prediction \n",
      "USE:  tf.Tensor(\n",
      "[ 0.04073656 -0.03231573 -0.03585198  0.03549797  0.08224856 -0.02719136\n",
      "  0.02041592 -0.0635589   0.01714143 -0.00502469 -0.06297838  0.01660468\n",
      "  0.04847197 -0.01998676 -0.07153309 -0.00850366 -0.01313019  0.06846194\n",
      "  0.05898756  0.01383114  0.03093348  0.003158   -0.00256129  0.00554785\n",
      " -0.02763977 -0.01921695 -0.05472223 -0.02757262 -0.0057967   0.07744708\n",
      "  0.00564554  0.03466818  0.05189236  0.04228954 -0.03473291  0.02671894\n",
      "  0.05278528  0.01908896 -0.00971078 -0.02939167  0.08067372 -0.06457597\n",
      " -0.02265274  0.00369014  0.00716437 -0.05474822 -0.01123452 -0.06552526\n",
      " -0.00072885 -0.03248378  0.05952569 -0.08006568  0.06238867  0.01756159\n",
      "  0.00660866 -0.0161346   0.02894862  0.02155604 -0.00811373 -0.05499836\n",
      "  0.06563846  0.00222129 -0.03739399 -0.04376139 -0.00713051  0.0438366\n",
      " -0.02508482 -0.00175284  0.00578799  0.0360475   0.01875958  0.00574725\n",
      "  0.08186598 -0.04414852 -0.00445441 -0.03743169  0.01712287  0.00633023\n",
      "  0.02214016  0.05959872 -0.0120459  -0.02148142  0.0932668  -0.04909264\n",
      " -0.01307279  0.04177577  0.03472148 -0.01789706  0.05059788  0.08775602\n",
      "  0.05142712 -0.0552826   0.02598058  0.00950393  0.00259223  0.0165924\n",
      "  0.07188601 -0.02295909 -0.03644441  0.04897031  0.01474892  0.02231244\n",
      " -0.02156411  0.00540611  0.00022279  0.03618184  0.0206235  -0.03982903\n",
      "  0.0054627   0.02810658 -0.01622078 -0.03961872 -0.05518596  0.00797267\n",
      " -0.01427836 -0.02680502 -0.03228367  0.03286874 -0.05377024 -0.05570632\n",
      " -0.02538449  0.08251412 -0.06295469  0.04580176 -0.03561847 -0.01108517\n",
      "  0.03686159  0.04355282  0.00335556 -0.04923069  0.06059648 -0.02867576\n",
      "  0.02784877  0.02788899  0.04037084 -0.01419069  0.00758302 -0.01659136\n",
      "  0.03292673  0.05342865  0.02418886 -0.03582025  0.01055657  0.03612371\n",
      "  0.05098039 -0.00836431  0.05396468 -0.06890815 -0.01541929 -0.01058267\n",
      " -0.03378359 -0.04047472 -0.05133084  0.01011192  0.05145449  0.02136574\n",
      " -0.03855284  0.01558407  0.05726557  0.05706341  0.07757237 -0.00557602\n",
      "  0.00228125 -0.03740961  0.05049558  0.03875303 -0.02951582  0.02364965\n",
      "  0.05267337 -0.00683257  0.0494487   0.01258369 -0.04567946 -0.03891293\n",
      " -0.02296024 -0.00152336 -0.01089066 -0.06663371 -0.01482486 -0.04626292\n",
      "  0.10564765 -0.08532081 -0.02493857  0.06686123  0.05666054 -0.03425645\n",
      "  0.00396877  0.0383928  -0.09549191  0.05027966 -0.04964922 -0.01079188\n",
      " -0.0267162   0.04605947  0.00718975  0.00721357 -0.02762377  0.0672785\n",
      " -0.03197991  0.00841173  0.04182931 -0.07410438  0.0286502   0.04370687\n",
      "  0.02506946 -0.07845929 -0.00607883  0.02716234  0.07185411  0.03866426\n",
      " -0.04292217  0.03832204 -0.02835725 -0.03529077 -0.01389214  0.03995542\n",
      " -0.05879859 -0.06070388  0.00589415  0.0021277   0.00337314 -0.02839626\n",
      "  0.01295884  0.00901805 -0.06697416 -0.01450199 -0.04081979  0.089668\n",
      " -0.03897886  0.00457323  0.07231113  0.01128687 -0.04968398 -0.04120372\n",
      "  0.03838392  0.06840205  0.00675218 -0.05017066 -0.00060719  0.01974523\n",
      " -0.03556195  0.07177009  0.04066401 -0.07348955  0.00742513  0.09394648\n",
      "  0.0193306  -0.00734576  0.01907349  0.05186206 -0.05351809 -0.0194941\n",
      " -0.01569065 -0.05114569 -0.01714378 -0.0089472   0.00748138  0.04591642\n",
      "  0.03223865  0.00309574  0.01688707 -0.03920114 -0.00387323  0.01875628\n",
      "  0.05463696 -0.11518651  0.033654   -0.08050108  0.07863366  0.06640227\n",
      "  0.00282826  0.02051874  0.08213362  0.05062956 -0.00351572  0.07043508\n",
      " -0.08101702 -0.07214899 -0.01452604 -0.02109745 -0.01797197  0.03328385\n",
      " -0.03482312  0.04674448 -0.03434327  0.06452554 -0.01156587  0.00282463\n",
      "  0.04773162  0.06185624 -0.06256337 -0.05493879  0.00804195  0.08605406\n",
      "  0.00599336 -0.0103686   0.0851808   0.03599514  0.0833886   0.0662889\n",
      "  0.06549787  0.02621223  0.00448706 -0.06076884 -0.08007406 -0.04778172\n",
      " -0.02956748  0.04994155  0.03437334  0.01446507  0.03670427  0.0210723\n",
      " -0.00535609  0.02307972 -0.02427078 -0.04687298  0.01673013 -0.00434152\n",
      " -0.03570939 -0.00658622 -0.00998241 -0.08059981  0.04719458  0.06659125\n",
      " -0.0040694   0.00192898  0.04000682 -0.00946355  0.02854129  0.0124608\n",
      "  0.02951441  0.05094085  0.03528218 -0.06812404 -0.0364548  -0.03089526\n",
      "  0.05953985  0.10020784  0.01742838  0.09005893  0.00537805 -0.05318529\n",
      "  0.04182008  0.04958622 -0.00596934  0.01693862 -0.00256934 -0.05250565\n",
      " -0.03136817  0.01970304 -0.08243184 -0.03527918  0.0392433  -0.06926335\n",
      "  0.00422519 -0.0322907   0.06223321 -0.07031702  0.02756772  0.01908035\n",
      "  0.04043876  0.04244922  0.04822192  0.0339615  -0.00055037  0.05985201\n",
      "  0.01043685 -0.10909315  0.03200991  0.07097239 -0.04342262 -0.08743157\n",
      " -0.01665913 -0.02195961  0.02674943  0.02036675 -0.04894749 -0.06414805\n",
      "  0.00244475 -0.03005391 -0.0037359   0.03420135  0.0614798  -0.01040611\n",
      " -0.05470161  0.01958498  0.01991283  0.02343416  0.01178822 -0.00253433\n",
      " -0.02946899 -0.07664157 -0.00503224  0.01141339  0.03837698 -0.05306966\n",
      " -0.07516104  0.03994274 -0.01520038  0.01598994 -0.05784697 -0.00020593\n",
      " -0.00639571  0.10738162  0.03876958  0.08660194 -0.00753251 -0.04412516\n",
      "  0.01801574 -0.04663806  0.02755159  0.05758093 -0.05933255 -0.01055622\n",
      "  0.08482245 -0.01344767 -0.02886142 -0.01921721 -0.01866816  0.02407137\n",
      "  0.05291855 -0.04029316 -0.04949378 -0.00232117  0.05235222  0.05648118\n",
      " -0.02973877  0.00266643 -0.00027647  0.04224202 -0.01183583 -0.01204297\n",
      "  0.06534775 -0.02435364 -0.02412423 -0.03520408 -0.09782236  0.03735713\n",
      "  0.00608481  0.02595771  0.03073585  0.0762817  -0.0914038  -0.00811822\n",
      " -0.05194483 -0.02985765  0.00121567 -0.04912266 -0.06840147  0.0459247\n",
      "  0.05275141 -0.04388986  0.09927355 -0.0614266  -0.0437348  -0.07333729\n",
      " -0.04810897  0.05191372  0.02962169 -0.01795203  0.08878645 -0.06633695\n",
      "  0.0842301   0.02685154 -0.04499675 -0.02899113  0.02744126  0.01403284\n",
      " -0.02837988  0.03741344  0.03138788 -0.04157444  0.05152896 -0.01718872\n",
      "  0.01599101 -0.01107234  0.0291134   0.03175112  0.09370515  0.03686525\n",
      " -0.01324183 -0.03873244  0.06501655 -0.06263617 -0.01615713 -0.0737943\n",
      " -0.03486878 -0.04585479 -0.03822208  0.02807428  0.08158176  0.01898101\n",
      "  0.0599844  -0.0363349  -0.02322488 -0.02546844  0.03802205 -0.03625352\n",
      "  0.01123756 -0.04978389  0.02692572 -0.05715163  0.01025473 -0.03162954\n",
      "  0.00715254 -0.04518369  0.05426824  0.08079477  0.03783412  0.06156711\n",
      "  0.07213864 -0.01556438], shape=(512,), dtype=float32)\n"
     ]
    }
   ],
   "source": [
    "search_token = \"human trajectory prediction \"\n",
    "\n",
    "print(\"search_token: \",search_token)\n",
    "\n",
    "use_vec = embed([search_token])[0]\n",
    "print(\"USE: \",use_vec)\n"
   ]
  },
  {
   "cell_type": "code",
   "execution_count": 16,
   "id": "bad88dca",
   "metadata": {},
   "outputs": [
    {
     "data": {
      "text/plain": [
       "TensorShape([512])"
      ]
     },
     "execution_count": 16,
     "metadata": {},
     "output_type": "execute_result"
    }
   ],
   "source": [
    "use_vec.shape"
   ]
  },
  {
   "cell_type": "code",
   "execution_count": 17,
   "id": "dc9942d3",
   "metadata": {},
   "outputs": [],
   "source": [
    "from sklearn.metrics.pairwise import cosine_similarity"
   ]
  },
  {
   "cell_type": "code",
   "execution_count": 38,
   "id": "49b92ce7",
   "metadata": {},
   "outputs": [],
   "source": [
    "def cosine(u, v):\n",
    "    return np.dot(u, v) / (np.linalg.norm(u) * np.linalg.norm(v))\n",
    "\n",
    "def get_recommendations_use(query):\n",
    "    print(\"query: \", query)\n",
    "    sim = {}\n",
    "    use_vec = embed([query])[0]\n",
    "    for idx,sent in enumerate(df['title']):\n",
    "        score = cosine(use_vec, use_embedding[idx])\n",
    "        sim[score]= sent\n",
    "\n",
    "    sim = dict(sorted(sim.items(), reverse=True)[:10])\n",
    "    return sim"
   ]
  },
  {
   "cell_type": "code",
   "execution_count": 39,
   "id": "e923b4e6",
   "metadata": {
    "scrolled": true
   },
   "outputs": [
    {
     "name": "stdout",
     "output_type": "stream",
     "text": [
      "query:  The Kinematic design of a 3-dof Hybrid Manipulator\n"
     ]
    },
    {
     "data": {
      "text/plain": [
       "{0.46602717: 'Autonomous Hybrid Ground/Aerial Mobility in Unknown Environments',\n",
       " 0.4406929: 'Design, analysis and control of the series-parallel hybrid RH5 humanoid\\n  robot',\n",
       " 0.43210438: 'A new line-symmetric mobile infinity-pod',\n",
       " 0.42856362: 'Kinematic analysis of the 3-RPR parallel manipulator',\n",
       " 0.41783068: 'Kinematically Redundant Octahedral Motion Platform for Virtual Reality\\n  Simulations',\n",
       " 0.4176771: 'A Hybrid Approach for Trajectory Control Design',\n",
       " 0.4149334: 'Design of a Three-Axis Isotropic Parallel Manipulator for Machining\\n  Applications: The Orthoglide',\n",
       " 0.4070761: 'Efficient Kinematic Planning for Mobile Manipulators with Non-holonomic\\n  Constraints Using Optimal Control',\n",
       " 0.40530807: 'Kinematics of A 3-PRP planar parallel robot',\n",
       " 0.40163675: 'A Receding Horizon Push Recovery Strategy for Balancing the iCub\\n  Humanoid Robot'}"
      ]
     },
     "execution_count": 39,
     "metadata": {},
     "output_type": "execute_result"
    }
   ],
   "source": [
    "get_recommendations_use(rob_paper1)"
   ]
  },
  {
   "cell_type": "code",
   "execution_count": 40,
   "id": "08029cf4",
   "metadata": {},
   "outputs": [
    {
     "name": "stdout",
     "output_type": "stream",
     "text": [
      "query:  Bipedal Walking Robot using Deep Deterministic Policy Gradient\n"
     ]
    },
    {
     "data": {
      "text/plain": [
       "{0.6496586: 'Bipedal Walking Robot using Deep Deterministic Policy Gradient',\n",
       " 0.5817887: 'Learning Linear Policies for Robust Bipedal Locomotion on Terrains with\\n  Varying Slopes',\n",
       " 0.5756719: 'Force-and-moment-based Model Predictive Control for Achieving Highly\\n  Dynamic Locomotion on Bipedal Robots',\n",
       " 0.56612515: 'Dynamic Legged Manipulation of a Ball Through Multi-Contact Optimization',\n",
       " 0.56393343: 'Robust Quadrupedal Locomotion on Sloped Terrains: A Linear Policy\\n  Approach',\n",
       " 0.5617554: 'Dynamic Walking on Slippery Surfaces: Demonstrating Stable Bipedal Gaits\\n  with Planned Ground Slippage',\n",
       " 0.5562693: 'An Efficiently Solvable Quadratic Program for Stabilizing Dynamic\\n  Locomotion',\n",
       " 0.5524099: 'Energy-Efficient Motion Planning for Multi-Modal Hybrid Locomotion',\n",
       " 0.55092716: 'Experiential Robot Learning with Accelerated Neuroevolution',\n",
       " 0.5493945: 'A Legged Soft Robot Platform for Dynamic Locomotion'}"
      ]
     },
     "execution_count": 40,
     "metadata": {},
     "output_type": "execute_result"
    }
   ],
   "source": [
    "get_recommendations_use(rob_paper2)"
   ]
  },
  {
   "cell_type": "code",
   "execution_count": 41,
   "id": "7bfb58d4",
   "metadata": {},
   "outputs": [
    {
     "name": "stdout",
     "output_type": "stream",
     "text": [
      "query:  Learning Quadrupedal Locomotion over Challenging Terrain\n"
     ]
    },
    {
     "data": {
      "text/plain": [
       "{0.5854457: 'Quadruped Locomotion on Non-Rigid Terrain using Reinforcement Learning',\n",
       " 0.57908493: 'Learning Quadrupedal Locomotion over Challenging Terrain',\n",
       " 0.5777056: 'Learning Vision-Guided Quadrupedal Locomotion End-to-End with\\n  Cross-Modal Transformers',\n",
       " 0.5580227: 'Learning Linear Policies for Robust Bipedal Locomotion on Terrains with\\n  Varying Slopes',\n",
       " 0.55210364: 'Hierarchical Reinforcement Learning for Quadruped Locomotion',\n",
       " 0.55004674: 'Robust Quadrupedal Locomotion on Sloped Terrains: A Linear Policy\\n  Approach',\n",
       " 0.5463466: 'Learning Active Spine Behaviors for Dynamic and Efficient Locomotion in\\n  Quadruped Robots',\n",
       " 0.53348005: 'DeepWalk: Omnidirectional Bipedal Gait by Deep Reinforcement Learning',\n",
       " 0.52879804: 'Learning Generalizable Locomotion Skills with Hierarchical Reinforcement\\n  Learning',\n",
       " 0.516218: 'Model-free Reinforcement Learning for Robust Locomotion Using Trajectory\\n  Optimization for Exploration'}"
      ]
     },
     "execution_count": 41,
     "metadata": {},
     "output_type": "execute_result"
    }
   ],
   "source": [
    "get_recommendations_use(rob_paper3)"
   ]
  },
  {
   "cell_type": "code",
   "execution_count": 42,
   "id": "0ee3304b",
   "metadata": {},
   "outputs": [
    {
     "name": "stdout",
     "output_type": "stream",
     "text": [
      "query:  Playing Atari with Deep Reinforcement Learning\n"
     ]
    },
    {
     "data": {
      "text/plain": [
       "{0.5468781: 'Object-sensitive Deep Reinforcement Learning',\n",
       " 0.5436386: 'Model-Based Reinforcement Learning for Atari',\n",
       " 0.5305242: 'On Catastrophic Interference in Atari 2600 Games',\n",
       " 0.52856165: 'Performing Deep Recurrent Double Q-Learning for Atari Games',\n",
       " 0.52327317: 'Deep Reinforcement Learning for Doom using Unsupervised Auxiliary Tasks',\n",
       " 0.52122575: 'Deep Reinforcement Learning from Self-Play in Imperfect-Information\\n  Games',\n",
       " 0.5205137: 'Transferring Deep Reinforcement Learning with Adversarial Objective and\\n  Augmentation',\n",
       " 0.5121579: 'Accelerated Methods for Deep Reinforcement Learning',\n",
       " 0.51064587: 'Inverse reinforcement learning for video games',\n",
       " 0.50384545: 'State of the Art Control of Atari Games Using Shallow Reinforcement\\n  Learning'}"
      ]
     },
     "execution_count": 42,
     "metadata": {},
     "output_type": "execute_result"
    }
   ],
   "source": [
    "get_recommendations_use(ml_paper1)"
   ]
  },
  {
   "cell_type": "code",
   "execution_count": 43,
   "id": "a6dfecf9",
   "metadata": {},
   "outputs": [
    {
     "name": "stdout",
     "output_type": "stream",
     "text": [
      "query:  Proximal Policy Optimization Algorithms\n"
     ]
    },
    {
     "data": {
      "text/plain": [
       "{0.6822812: 'Proximal Deterministic Policy Gradient',\n",
       " 0.6508867: 'Proximal Policy Optimization Smoothed Algorithm',\n",
       " 0.64691883: 'Riemannian Proximal Policy Optimization',\n",
       " 0.6431553: 'Policy Optimization as Wasserstein Gradient Flows',\n",
       " 0.61832505: 'Policy Optimization With Penalized Point Probability Distance: An\\n  Alternative To Proximal Policy Optimization',\n",
       " 0.5993321: 'Proximal Policy Optimization via Enhanced Exploration Efficiency',\n",
       " 0.5962317: 'Robust Optimization for Non-Convex Objectives',\n",
       " 0.5882736: 'Provably Efficient Exploration in Policy Optimization',\n",
       " 0.584838: 'Direct Policy Optimization using Deterministic Sampling and Collocation',\n",
       " 0.582313: 'Efficient Algorithms for Non-convex Isotonic Regression through\\n  Submodular Optimization'}"
      ]
     },
     "execution_count": 43,
     "metadata": {},
     "output_type": "execute_result"
    }
   ],
   "source": [
    "get_recommendations_use(ml_paper2)"
   ]
  },
  {
   "cell_type": "code",
   "execution_count": 44,
   "id": "171ed375",
   "metadata": {},
   "outputs": [
    {
     "name": "stdout",
     "output_type": "stream",
     "text": [
      "query:  Machine Learning for Structured Clinical Data\n"
     ]
    },
    {
     "data": {
      "text/plain": [
       "{0.6288282: 'Machine Learning for Clinical Predictive Analytics',\n",
       " 0.58321744: 'Multimodal Machine Learning for Automated ICD Coding',\n",
       " 0.577671: 'Supervised Learning on Relational Databases with Graph Neural Networks',\n",
       " 0.57511437: 'A Framework for Implementing Machine Learning on Omics Data',\n",
       " 0.5728103: 'Techniques for Automated Machine Learning',\n",
       " 0.569126: 'Adversarial Training for Patient-Independent Feature Learning with IVOCT\\n  Data for Plaque Classification',\n",
       " 0.5596535: 'Representation Learning for Medical Data',\n",
       " 0.5569516: 'Benchmark of Deep Learning Models on Large Healthcare MIMIC Datasets',\n",
       " 0.55065995: 'Train, Learn, Expand, Repeat',\n",
       " 0.54737556: 'Pitfalls in Machine Learning Research: Reexamining the Development Cycle'}"
      ]
     },
     "execution_count": 44,
     "metadata": {},
     "output_type": "execute_result"
    }
   ],
   "source": [
    "get_recommendations_use(ml_paper3)"
   ]
  },
  {
   "cell_type": "code",
   "execution_count": null,
   "id": "8d03bbb6",
   "metadata": {},
   "outputs": [],
   "source": []
  },
  {
   "cell_type": "code",
   "execution_count": 19,
   "id": "d2f743ef",
   "metadata": {
    "scrolled": true
   },
   "outputs": [
    {
     "name": "stdout",
     "output_type": "stream",
     "text": [
      "query :  human trajectory prediction \n"
     ]
    },
    {
     "data": {
      "text/plain": [
       "{0.32717863: 'Soft Motion Trajectory Planner for Service Manipulator Robot',\n",
       " 0.31405118: 'Prediction with Advice of Unknown Number of Experts',\n",
       " 0.3133469: 'Image Processing in Optical Guidance for Autonomous Landing of Lunar\\n  Probe',\n",
       " 0.28519568: 'Clinical gait data analysis based on Spatio-Temporal features',\n",
       " 0.28512505: 'Dynamic Motion Modelling for Legged Robots',\n",
       " 0.2805346: 'A tutorial on conformal prediction',\n",
       " 0.2799455: 'Multi-Label Prediction via Compressed Sensing',\n",
       " 0.27509603: 'Dyadic Prediction Using a Latent Feature Log-Linear Model',\n",
       " 0.27106336: 'Cuspidal and Noncuspidal Robot Manipulators',\n",
       " 0.27002686: 'Working and Assembly Modes of the Agile Eye'}"
      ]
     },
     "execution_count": 19,
     "metadata": {},
     "output_type": "execute_result"
    }
   ],
   "source": [
    "# search_token = \"image analysis using generative \"\n",
    "print(\"query : \",search_token)\n",
    "sim"
   ]
  },
  {
   "cell_type": "code",
   "execution_count": 20,
   "id": "17ea7aa3",
   "metadata": {},
   "outputs": [
    {
     "name": "stdout",
     "output_type": "stream",
     "text": [
      "query :  Self-Supervised Goal-Conditioned Pick and Place\n"
     ]
    },
    {
     "data": {
      "text/plain": [
       "{0.32717863: 'Soft Motion Trajectory Planner for Service Manipulator Robot',\n",
       " 0.31405118: 'Prediction with Advice of Unknown Number of Experts',\n",
       " 0.3133469: 'Image Processing in Optical Guidance for Autonomous Landing of Lunar\\n  Probe',\n",
       " 0.28519568: 'Clinical gait data analysis based on Spatio-Temporal features',\n",
       " 0.28512505: 'Dynamic Motion Modelling for Legged Robots',\n",
       " 0.2805346: 'A tutorial on conformal prediction',\n",
       " 0.2799455: 'Multi-Label Prediction via Compressed Sensing',\n",
       " 0.27509603: 'Dyadic Prediction Using a Latent Feature Log-Linear Model',\n",
       " 0.27106336: 'Cuspidal and Noncuspidal Robot Manipulators',\n",
       " 0.27002686: 'Working and Assembly Modes of the Agile Eye'}"
      ]
     },
     "execution_count": 20,
     "metadata": {},
     "output_type": "execute_result"
    }
   ],
   "source": [
    "search_token = \"Self-Supervised Goal-Conditioned Pick and Place\"\n",
    "print(\"query : \",search_token)\n",
    "sim"
   ]
  },
  {
   "cell_type": "code",
   "execution_count": 21,
   "id": "981a6284",
   "metadata": {},
   "outputs": [
    {
     "name": "stdout",
     "output_type": "stream",
     "text": [
      "query :  A neural network approach to ordinal regression\n"
     ]
    },
    {
     "data": {
      "text/plain": [
       "{0.32717863: 'Soft Motion Trajectory Planner for Service Manipulator Robot',\n",
       " 0.31405118: 'Prediction with Advice of Unknown Number of Experts',\n",
       " 0.3133469: 'Image Processing in Optical Guidance for Autonomous Landing of Lunar\\n  Probe',\n",
       " 0.28519568: 'Clinical gait data analysis based on Spatio-Temporal features',\n",
       " 0.28512505: 'Dynamic Motion Modelling for Legged Robots',\n",
       " 0.2805346: 'A tutorial on conformal prediction',\n",
       " 0.2799455: 'Multi-Label Prediction via Compressed Sensing',\n",
       " 0.27509603: 'Dyadic Prediction Using a Latent Feature Log-Linear Model',\n",
       " 0.27106336: 'Cuspidal and Noncuspidal Robot Manipulators',\n",
       " 0.27002686: 'Working and Assembly Modes of the Agile Eye'}"
      ]
     },
     "execution_count": 21,
     "metadata": {},
     "output_type": "execute_result"
    }
   ],
   "source": [
    "search_token = 'A neural network approach to ordinal regression'\n",
    "print(\"query : \",search_token)\n",
    "sim"
   ]
  },
  {
   "cell_type": "code",
   "execution_count": null,
   "id": "4a5243cb",
   "metadata": {},
   "outputs": [],
   "source": []
  },
  {
   "cell_type": "code",
   "execution_count": null,
   "id": "49e546b1",
   "metadata": {},
   "outputs": [],
   "source": []
  },
  {
   "cell_type": "code",
   "execution_count": null,
   "id": "92ac499b",
   "metadata": {},
   "outputs": [],
   "source": []
  }
 ],
 "metadata": {
  "kernelspec": {
   "display_name": "Python 3",
   "language": "python",
   "name": "python3"
  },
  "language_info": {
   "codemirror_mode": {
    "name": "ipython",
    "version": 3
   },
   "file_extension": ".py",
   "mimetype": "text/x-python",
   "name": "python",
   "nbconvert_exporter": "python",
   "pygments_lexer": "ipython3",
   "version": "3.7.10"
  }
 },
 "nbformat": 4,
 "nbformat_minor": 5
}
