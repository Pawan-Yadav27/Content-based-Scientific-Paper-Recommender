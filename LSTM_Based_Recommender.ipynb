{
  "nbformat": 4,
  "nbformat_minor": 5,
  "metadata": {
    "kernelspec": {
      "display_name": "Python 3",
      "language": "python",
      "name": "python3"
    },
    "language_info": {
      "codemirror_mode": {
        "name": "ipython",
        "version": 3
      },
      "file_extension": ".py",
      "mimetype": "text/x-python",
      "name": "python",
      "nbconvert_exporter": "python",
      "pygments_lexer": "ipython3",
      "version": "3.7.10"
    },
    "colab": {
      "name": "LSTM_Based_Recommender.ipynb",
      "provenance": [],
      "collapsed_sections": []
    }
  },
  "cells": [
    {
      "cell_type": "code",
      "metadata": {
        "colab": {
          "base_uri": "https://localhost:8080/"
        },
        "id": "Q2x9KMx9roc5",
        "outputId": "94f3a386-7596-4157-efbd-173c6a4a0c4d"
      },
      "source": [
        "from google.colab import drive\n",
        "drive.mount('/content/drive')"
      ],
      "id": "Q2x9KMx9roc5",
      "execution_count": 1,
      "outputs": [
        {
          "output_type": "stream",
          "name": "stdout",
          "text": [
            "Mounted at /content/drive\n"
          ]
        }
      ]
    },
    {
      "cell_type": "code",
      "metadata": {
        "id": "478a1398"
      },
      "source": [
        "import pandas as pd\n",
        "import numpy as np\n",
        "import matplotlib.pyplot as plt\n",
        "import seaborn as sns\n",
        "import json\n",
        "import re\n",
        "import nltk\n",
        "from operator import itemgetter\n",
        "\n",
        "from sklearn.feature_extraction.text import CountVectorizer\n",
        "from nltk.corpus import stopwords\n",
        "import plotly.express as px\n",
        "\n",
        "\n",
        "import torch\n",
        "import tensorflow as tf\n",
        "from sklearn.model_selection import train_test_split\n",
        "\n",
        "from wordcloud import WordCloud, STOPWORDS, ImageColorGenerator\n",
        "# from nltk.stem import WordNetLemmatizer, SnowballStemmer\n",
        "from nltk.stem import WordNetLemmatizer\n",
        "\n",
        "import tensorflow.keras.backend as K\n",
        "import tensorflow.keras as keras\n",
        "from tensorflow.keras.preprocessing.text import Tokenizer\n",
        "from tensorflow.keras.preprocessing.sequence import pad_sequences\n",
        "from tensorflow.keras.layers import Concatenate, Dense, Input, LSTM, Embedding, Dropout, Activation, GRU, Flatten\n",
        "from tensorflow.keras.layers import Bidirectional, GlobalMaxPool1D\n",
        "from tensorflow.keras.models import Model, Sequential\n",
        "from tensorflow.keras.layers import Convolution1D\n",
        "from keras.layers.convolutional import Conv1D\n",
        "from keras.layers.convolutional import MaxPooling1D\n",
        "from tensorflow.keras import initializers, regularizers, constraints, optimizers, layers\n",
        "\n",
        "np.random.seed(5)"
      ],
      "id": "478a1398",
      "execution_count": 2,
      "outputs": []
    },
    {
      "cell_type": "code",
      "metadata": {
        "scrolled": true,
        "id": "cfd0b282"
      },
      "source": [
        "# # https://arxiv.org/help/api/user-manual\n",
        "# category_map = {\n",
        "# 'cs.CV': 'Computer Vision and Pattern Recognition',\n",
        "# 'cs.LG': 'Machine Learning',\n",
        "# 'cs.RO': 'Robotics',\n",
        "\n",
        "# }"
      ],
      "id": "cfd0b282",
      "execution_count": null,
      "outputs": []
    },
    {
      "cell_type": "code",
      "metadata": {
        "id": "agRl-uk6zrhk"
      },
      "source": [
        "def text2sequence(input_texts , target_texts):\n",
        "  token2index = {\"PAD\":0 , \"SOS\":1 , \"EOS\":2}\n",
        "  token2count = {\"PAD\":1 , \"SOS\":1 , \"EOS\":1}\n",
        "  index2token = {0: \"PAD\", 1: \"SOS\", 2: \"EOS\"}\n",
        "  num_tokens = 4\n",
        "  input_lines=[]\n",
        "  target_lines=[]\n",
        "\n",
        "  for i in input_texts:\n",
        "    #print(i)\n",
        "    input_lines.append(i.split(\" \"))\n",
        "    # s=eval(i)     \n",
        "    s = i.split(\" \") \n",
        "    for token in s:\n",
        "      if token not in token2index:\n",
        "        # First entry of token into vocabulary\n",
        "        token2index[token] = num_tokens\n",
        "        token2count[token] = 1\n",
        "        index2token[num_tokens] = token\n",
        "        num_tokens += 1\n",
        "      else:\n",
        "        # token exists; increase token count\n",
        "        token2count[token] += 1\n",
        "  \n",
        "  for i in target_texts:\n",
        "    target_lines.append(i.split(\" \"))\n",
        "    # s=eval(i) \n",
        "    s = i.split(\" \")          \n",
        "    for token in s:\n",
        "      if token not in token2index:\n",
        "        # First entry of token into vocabulary\n",
        "        token2index[token] = num_tokens\n",
        "        token2count[token] = 1\n",
        "        index2token[num_tokens] = token\n",
        "        num_tokens += 1\n",
        "      else:\n",
        "        # token exists; increase token count\n",
        "        token2count[token] += 1\n",
        "  \n",
        "  return input_lines , target_lines , token2count"
      ],
      "id": "agRl-uk6zrhk",
      "execution_count": 3,
      "outputs": []
    },
    {
      "cell_type": "code",
      "metadata": {
        "id": "3DLdhzHJz9YF"
      },
      "source": [
        "from tensorflow.keras.preprocessing.sequence import pad_sequences\n",
        "\n",
        "def sequence2tokenization(texts , token2index , sent_length):\n",
        "    indexed_texts =[]\n",
        "    for text in texts:\n",
        "      temp_list=[]     \n",
        "      for token in text:      \n",
        "        if token in token2index.keys():\n",
        "          temp_list.append(token2index[token])\n",
        "        else:\n",
        "          temp_list.append(3)\n",
        "      indexed_texts.append(np.array([1]+temp_list+[2]))\n",
        "      \n",
        "    padded_seq = pad_sequences(indexed_texts,padding='post', maxlen = sent_length)\n",
        "    return padded_seq\n",
        "\n",
        "def encoder_decoder_data(padded_input_texts , padded_target_texts ,num_samples ,num_unique_tokens ):\n",
        "  encoder_input_data = np.zeros((num_samples , 200),dtype='float32')\n",
        "  decoder_input_data = np.zeros((num_samples, 15),dtype='float32')\n",
        "  decoder_target_data = np.zeros((num_samples, 15),dtype='float32')\n",
        "\n",
        "  for i, (input_text, target_text) in enumerate(zip(padded_input_texts, padded_target_texts)):\n",
        "    for t in range(len(input_text)):\n",
        "      encoder_input_data[i, t] = input_text[t]\n",
        "    \n",
        "    for t in range(len(target_text)):\n",
        "      decoder_input_data[i, t] = target_text[t]\n",
        " \n",
        "      if t>0:\n",
        "        decoder_target_data[i, t-1] = target_text[t]\n",
        "  \n",
        "  return encoder_input_data , decoder_input_data , decoder_target_data"
      ],
      "id": "3DLdhzHJz9YF",
      "execution_count": 4,
      "outputs": []
    },
    {
      "cell_type": "code",
      "metadata": {
        "id": "FTJw9UWLxt21"
      },
      "source": [
        "arxiv_df = pd.read_csv('/content/drive/MyDrive/DATA/pawan/ADL_P1/3cat_ArXiv.csv')\n",
        "\n",
        "# df = arxiv_df[np.logical_or((arxiv_df['category'].values == 'Machine Learning'),\n",
        "#                            (arxiv_df['category'].values == 'Computer Vision and Pattern Recognition'))]\n",
        "\n",
        "# using loc() method\n",
        "mask = arxiv_df['category'].values == 'Computer Vision and Pattern Recognition'\n",
        "df = arxiv_df.loc[mask]\n",
        "\n",
        "# from sklearn.utils import shuffle\n",
        "# df = shuffle(df)\n",
        "\n"
      ],
      "id": "FTJw9UWLxt21",
      "execution_count": 5,
      "outputs": []
    },
    {
      "cell_type": "code",
      "metadata": {
        "colab": {
          "base_uri": "https://localhost:8080/",
          "height": 388
        },
        "id": "qleHbxEH0hbx",
        "outputId": "1c3e41ee-a173-4a1c-a5c9-8c307b02e985"
      },
      "source": [
        "df.head()"
      ],
      "id": "qleHbxEH0hbx",
      "execution_count": null,
      "outputs": [
        {
          "output_type": "execute_result",
          "data": {
            "text/html": [
              "<div>\n",
              "<style scoped>\n",
              "    .dataframe tbody tr th:only-of-type {\n",
              "        vertical-align: middle;\n",
              "    }\n",
              "\n",
              "    .dataframe tbody tr th {\n",
              "        vertical-align: top;\n",
              "    }\n",
              "\n",
              "    .dataframe thead th {\n",
              "        text-align: right;\n",
              "    }\n",
              "</style>\n",
              "<table border=\"1\" class=\"dataframe\">\n",
              "  <thead>\n",
              "    <tr style=\"text-align: right;\">\n",
              "      <th></th>\n",
              "      <th>Unnamed: 0</th>\n",
              "      <th>title</th>\n",
              "      <th>abstract</th>\n",
              "      <th>category</th>\n",
              "      <th>clean_title</th>\n",
              "      <th>clean_abstract</th>\n",
              "      <th>soup</th>\n",
              "    </tr>\n",
              "  </thead>\n",
              "  <tbody>\n",
              "    <tr>\n",
              "      <th>2</th>\n",
              "      <td>2</td>\n",
              "      <td>Text Line Segmentation of Historical Documents...</td>\n",
              "      <td>There is a huge amount of historical documen...</td>\n",
              "      <td>Computer Vision and Pattern Recognition</td>\n",
              "      <td>text line segmentation historical documents su...</td>\n",
              "      <td>huge amount historical documents libraries var...</td>\n",
              "      <td>text line segmentation historical documents su...</td>\n",
              "    </tr>\n",
              "    <tr>\n",
              "      <th>8</th>\n",
              "      <td>8</td>\n",
              "      <td>Rough Sets Computations to Impute Missing Data</td>\n",
              "      <td>Many techniques for handling missing data ha...</td>\n",
              "      <td>Computer Vision and Pattern Recognition</td>\n",
              "      <td>rough sets computations impute missing data</td>\n",
              "      <td>many techniques handling missing data proposed...</td>\n",
              "      <td>rough sets computations impute missing data, r...</td>\n",
              "    </tr>\n",
              "    <tr>\n",
              "      <th>9</th>\n",
              "      <td>9</td>\n",
              "      <td>Riemannian level-set methods for tensor-valued...</td>\n",
              "      <td>We present a novel approach for the derivati...</td>\n",
              "      <td>Computer Vision and Pattern Recognition</td>\n",
              "      <td>riemannian level set methods tensor valued data</td>\n",
              "      <td>present novel approach derivation pde modeling...</td>\n",
              "      <td>riemannian level set methods tensor valued dat...</td>\n",
              "    </tr>\n",
              "    <tr>\n",
              "      <th>10</th>\n",
              "      <td>10</td>\n",
              "      <td>Multiresolution Approximation of Polygonal Cur...</td>\n",
              "      <td>We propose a new algorithm to the problem of...</td>\n",
              "      <td>Computer Vision and Pattern Recognition</td>\n",
              "      <td>multiresolution approximation polygonal curves...</td>\n",
              "      <td>propose new algorithm problem polygonal curve ...</td>\n",
              "      <td>multiresolution approximation polygonal curves...</td>\n",
              "    </tr>\n",
              "    <tr>\n",
              "      <th>12</th>\n",
              "      <td>12</td>\n",
              "      <td>Medical Image Segmentation and Localization us...</td>\n",
              "      <td>This paper presents deformable templates as ...</td>\n",
              "      <td>Computer Vision and Pattern Recognition</td>\n",
              "      <td>medical image segmentation localization using ...</td>\n",
              "      <td>paper presents deformable templates tool segme...</td>\n",
              "      <td>medical image segmentation localization using ...</td>\n",
              "    </tr>\n",
              "  </tbody>\n",
              "</table>\n",
              "</div>"
            ],
            "text/plain": [
              "    Unnamed: 0  ...                                               soup\n",
              "2            2  ...  text line segmentation historical documents su...\n",
              "8            8  ...  rough sets computations impute missing data, r...\n",
              "9            9  ...  riemannian level set methods tensor valued dat...\n",
              "10          10  ...  multiresolution approximation polygonal curves...\n",
              "12          12  ...  medical image segmentation localization using ...\n",
              "\n",
              "[5 rows x 7 columns]"
            ]
          },
          "metadata": {},
          "execution_count": 7
        }
      ]
    },
    {
      "cell_type": "code",
      "metadata": {
        "id": "BNdh70HrtUhs"
      },
      "source": [
        "# for i in df['title'][4000:8000]:\n",
        "#   print(i)"
      ],
      "id": "BNdh70HrtUhs",
      "execution_count": null,
      "outputs": []
    },
    {
      "cell_type": "code",
      "metadata": {
        "colab": {
          "base_uri": "https://localhost:8080/"
        },
        "id": "rwWG4IL61FD2",
        "outputId": "1b091129-9e1a-4b22-d888-a1f152182cf1"
      },
      "source": [
        "df.size"
      ],
      "id": "rwWG4IL61FD2",
      "execution_count": null,
      "outputs": [
        {
          "output_type": "execute_result",
          "data": {
            "text/plain": [
              "337904"
            ]
          },
          "metadata": {},
          "execution_count": 9
        }
      ]
    },
    {
      "cell_type": "code",
      "metadata": {
        "id": "18xncM3S0ScG"
      },
      "source": [
        "encoder_input = df['abstract'][4000:8000]\n",
        "decoder_input = df['title'][4000:8000]\n"
      ],
      "id": "18xncM3S0ScG",
      "execution_count": 6,
      "outputs": []
    },
    {
      "cell_type": "code",
      "metadata": {
        "id": "60GeFDfj0KTg"
      },
      "source": [
        "input_lines , target_lines , token2count = text2sequence(encoder_input , decoder_input)\n",
        "k = 100000\n",
        "encoder_sent_length=200\n",
        "decoder_sent_length = 15\n",
        "num_unique_tokens = 100000 + 4\n",
        "num_samples = len(input_lines)\n",
        "\n",
        "token_with_count = dict(sorted(token2count.items(), key = itemgetter(1), reverse = True)[:k])\n",
        "token2index = {\"PAD\":0, \"SOS\":1, \"EOS\":2, \"OOV\":3}\n",
        "index2token = {0: \"PAD\", 1: \"SOS\", 2: \"EOS\", 3: \"OOV\"}\n",
        "num_count = 4\n",
        "for i in token_with_count:\n",
        "  token2index[i] = num_count\n",
        "  index2token[num_count] = i\n",
        "  num_count += 1\n"
      ],
      "id": "60GeFDfj0KTg",
      "execution_count": 7,
      "outputs": []
    },
    {
      "cell_type": "code",
      "metadata": {
        "colab": {
          "base_uri": "https://localhost:8080/"
        },
        "id": "aVVn0gcz2rfN",
        "outputId": "9356f46b-ad60-4377-bc6d-deda783e7efb"
      },
      "source": [
        "padded_input_texts = sequence2tokenization(input_lines , token2index , encoder_sent_length)\n",
        "padded_target_texts = sequence2tokenization(target_lines , token2index , decoder_sent_length)\n",
        "encoder_input_data , decoder_input_data , decoder_target_data = encoder_decoder_data(padded_input_texts , padded_target_texts ,num_samples ,num_unique_tokens )\n",
        "print(encoder_input_data.shape)\n",
        "print(decoder_input_data.shape)"
      ],
      "id": "aVVn0gcz2rfN",
      "execution_count": 8,
      "outputs": [
        {
          "output_type": "stream",
          "name": "stdout",
          "text": [
            "(4000, 200)\n",
            "(4000, 15)\n"
          ]
        }
      ]
    },
    {
      "cell_type": "code",
      "metadata": {
        "id": "-KH8AE1_7hVV",
        "colab": {
          "base_uri": "https://localhost:8080/"
        },
        "outputId": "3b8d4fca-9d7e-4278-b9ea-f49fe78dc317"
      },
      "source": [
        "\n",
        "latent_dim=512\n",
        "batch_size=64\n",
        "epochs = 10\n",
        "emb_size = 512\n",
        "# Define an input sequence and process it.\n",
        "\n",
        "encoder_inputs = Input(shape=(None,))\n",
        "encoder_embedding=  Embedding(num_unique_tokens, emb_size , mask_zero = True )(encoder_inputs)\n",
        "# custom_embeding_matrix = np.array(encoder_embedding.get_weights())[0]\n",
        "# custom_embeding_matrix.shape\n",
        "encoder_lstm = Bidirectional(LSTM(latent_dim, return_state=True))\n",
        "encoder_outputs, forward_h, forward_c, backward_h, backward_c =encoder_lstm(encoder_embedding)\n",
        "\n",
        "state_h = Concatenate()([forward_h, backward_h])\n",
        "state_c = Concatenate()([forward_c, backward_c])\n",
        "encoder_states = [state_h, state_c]\n",
        "\n",
        "decoder_inputs = Input(shape=(None,))\n",
        "decoder_embedding=  Embedding(num_unique_tokens, emb_size , mask_zero = True)\n",
        "x= decoder_embedding(decoder_inputs)\n",
        "decoder_lstm = LSTM(latent_dim*2, return_sequences=True, return_state=True)\n",
        "decoder_outputs, _, _ = decoder_lstm(x,initial_state=encoder_states)\n",
        "decoder_dense = Dense(num_unique_tokens, activation='softmax')\n",
        "decoder_outputs = decoder_dense(decoder_outputs)\n",
        "\n",
        "model = Model([encoder_inputs, decoder_inputs], decoder_outputs)\n",
        "# model.compile(optimizer='adam', loss='categorical_crossentropy', metrics='accuracy')\n",
        "model.compile(optimizer='adam',loss=tf.keras.losses.SparseCategoricalCrossentropy(), metrics=['acc'])"
      ],
      "id": "-KH8AE1_7hVV",
      "execution_count": null,
      "outputs": [
        {
          "output_type": "stream",
          "name": "stderr",
          "text": [
            "Exception ignored in: <function IteratorResourceDeleter.__del__ at 0x7f244efb08c0>\n",
            "Traceback (most recent call last):\n",
            "  File \"/usr/local/lib/python3.7/dist-packages/tensorflow/python/data/ops/iterator_ops.py\", line 546, in __del__\n",
            "    handle=self._handle, deleter=self._deleter)\n",
            "  File \"/usr/local/lib/python3.7/dist-packages/tensorflow/python/ops/gen_dataset_ops.py\", line 1264, in delete_iterator\n",
            "    _ctx, \"DeleteIterator\", name, handle, deleter)\n",
            "KeyboardInterrupt: \n"
          ]
        }
      ]
    },
    {
      "cell_type": "code",
      "metadata": {
        "id": "FdvG5wNh9Vjv",
        "colab": {
          "base_uri": "https://localhost:8080/"
        },
        "outputId": "c86c60b1-d747-416f-c237-581a1271498c"
      },
      "source": [
        "model.summary()"
      ],
      "id": "FdvG5wNh9Vjv",
      "execution_count": null,
      "outputs": [
        {
          "output_type": "stream",
          "name": "stdout",
          "text": [
            "Model: \"model_2\"\n",
            "__________________________________________________________________________________________________\n",
            "Layer (type)                    Output Shape         Param #     Connected to                     \n",
            "==================================================================================================\n",
            "input_5 (InputLayer)            [(None, None)]       0                                            \n",
            "__________________________________________________________________________________________________\n",
            "embedding_4 (Embedding)         (None, None, 512)    51202048    input_5[0][0]                    \n",
            "__________________________________________________________________________________________________\n",
            "input_6 (InputLayer)            [(None, None)]       0                                            \n",
            "__________________________________________________________________________________________________\n",
            "bidirectional_2 (Bidirectional) [(None, 1024), (None 4198400     embedding_4[0][0]                \n",
            "__________________________________________________________________________________________________\n",
            "embedding_5 (Embedding)         (None, None, 512)    51202048    input_6[0][0]                    \n",
            "__________________________________________________________________________________________________\n",
            "concatenate_4 (Concatenate)     (None, 1024)         0           bidirectional_2[0][1]            \n",
            "                                                                 bidirectional_2[0][3]            \n",
            "__________________________________________________________________________________________________\n",
            "concatenate_5 (Concatenate)     (None, 1024)         0           bidirectional_2[0][2]            \n",
            "                                                                 bidirectional_2[0][4]            \n",
            "__________________________________________________________________________________________________\n",
            "lstm_5 (LSTM)                   [(None, None, 1024), 6295552     embedding_5[0][0]                \n",
            "                                                                 concatenate_4[0][0]              \n",
            "                                                                 concatenate_5[0][0]              \n",
            "__________________________________________________________________________________________________\n",
            "dense_2 (Dense)                 (None, None, 100004) 102504100   lstm_5[0][0]                     \n",
            "==================================================================================================\n",
            "Total params: 215,402,148\n",
            "Trainable params: 215,402,148\n",
            "Non-trainable params: 0\n",
            "__________________________________________________________________________________________________\n"
          ]
        }
      ]
    },
    {
      "cell_type": "code",
      "metadata": {
        "id": "JZtgsSwL7hRf",
        "colab": {
          "base_uri": "https://localhost:8080/"
        },
        "outputId": "9dfb35d4-6722-48a0-cca0-053268f905f0"
      },
      "source": [
        "callback = tf.keras.callbacks.EarlyStopping(monitor='loss', mode = 'min' ,patience=4)\n",
        "history1= model.fit(\n",
        "    [encoder_input_data, decoder_input_data],decoder_target_data,\n",
        "    batch_size=64,\n",
        "    epochs=100,\n",
        "    callbacks=[callback]\n",
        ")"
      ],
      "id": "JZtgsSwL7hRf",
      "execution_count": null,
      "outputs": [
        {
          "output_type": "stream",
          "name": "stdout",
          "text": [
            "Epoch 1/100\n",
            "63/63 [==============================] - 63s 783ms/step - loss: 5.7464 - acc: 0.1044\n",
            "Epoch 2/100\n",
            "63/63 [==============================] - 50s 788ms/step - loss: 4.6315 - acc: 0.1693\n",
            "Epoch 3/100\n",
            "63/63 [==============================] - 50s 788ms/step - loss: 4.2336 - acc: 0.2090\n",
            "Epoch 4/100\n",
            "63/63 [==============================] - 50s 789ms/step - loss: 4.0314 - acc: 0.2293\n",
            "Epoch 5/100\n",
            "63/63 [==============================] - 50s 791ms/step - loss: 3.8557 - acc: 0.2556\n",
            "Epoch 6/100\n",
            "63/63 [==============================] - 50s 789ms/step - loss: 3.6953 - acc: 0.2777\n",
            "Epoch 7/100\n",
            "63/63 [==============================] - 50s 788ms/step - loss: 3.5447 - acc: 0.2929\n",
            "Epoch 8/100\n",
            "63/63 [==============================] - 50s 789ms/step - loss: 3.3951 - acc: 0.3053\n",
            "Epoch 9/100\n",
            "63/63 [==============================] - 50s 788ms/step - loss: 3.2473 - acc: 0.3166\n",
            "Epoch 10/100\n",
            "63/63 [==============================] - 50s 789ms/step - loss: 3.0969 - acc: 0.3291\n",
            "Epoch 11/100\n",
            "63/63 [==============================] - 50s 786ms/step - loss: 2.9462 - acc: 0.3426\n",
            "Epoch 12/100\n",
            "63/63 [==============================] - 50s 787ms/step - loss: 2.7976 - acc: 0.3564\n",
            "Epoch 13/100\n",
            "63/63 [==============================] - 50s 788ms/step - loss: 2.6437 - acc: 0.3762\n",
            "Epoch 14/100\n",
            "63/63 [==============================] - 49s 784ms/step - loss: 2.4869 - acc: 0.4000\n",
            "Epoch 15/100\n",
            "63/63 [==============================] - 50s 786ms/step - loss: 2.3377 - acc: 0.4300\n",
            "Epoch 16/100\n",
            "63/63 [==============================] - 50s 786ms/step - loss: 2.1918 - acc: 0.4584\n",
            "Epoch 17/100\n",
            "63/63 [==============================] - 50s 787ms/step - loss: 2.0461 - acc: 0.4949\n",
            "Epoch 18/100\n",
            "63/63 [==============================] - 49s 786ms/step - loss: 1.9106 - acc: 0.5278\n",
            "Epoch 19/100\n",
            "63/63 [==============================] - 50s 787ms/step - loss: 1.7808 - acc: 0.5603\n",
            "Epoch 20/100\n",
            "63/63 [==============================] - 49s 786ms/step - loss: 1.6592 - acc: 0.5912\n",
            "Epoch 21/100\n",
            "63/63 [==============================] - 49s 785ms/step - loss: 1.5440 - acc: 0.6206\n",
            "Epoch 22/100\n",
            "63/63 [==============================] - 49s 785ms/step - loss: 1.4342 - acc: 0.6474\n",
            "Epoch 23/100\n",
            "63/63 [==============================] - 50s 787ms/step - loss: 1.3305 - acc: 0.6772\n",
            "Epoch 24/100\n",
            "63/63 [==============================] - 50s 786ms/step - loss: 1.2399 - acc: 0.7001\n",
            "Epoch 25/100\n",
            "63/63 [==============================] - 49s 785ms/step - loss: 1.1605 - acc: 0.7201\n",
            "Epoch 26/100\n",
            "63/63 [==============================] - 50s 786ms/step - loss: 1.0795 - acc: 0.7433\n",
            "Epoch 27/100\n",
            "63/63 [==============================] - 50s 786ms/step - loss: 1.0001 - acc: 0.7636\n",
            "Epoch 28/100\n",
            "63/63 [==============================] - 50s 790ms/step - loss: 0.9325 - acc: 0.7815\n",
            "Epoch 29/100\n",
            "63/63 [==============================] - 49s 783ms/step - loss: 0.8727 - acc: 0.7955\n",
            "Epoch 30/100\n",
            "63/63 [==============================] - 49s 784ms/step - loss: 0.8128 - acc: 0.8114\n",
            "Epoch 31/100\n",
            "63/63 [==============================] - 49s 785ms/step - loss: 0.7575 - acc: 0.8265\n",
            "Epoch 32/100\n",
            "63/63 [==============================] - 49s 784ms/step - loss: 0.7048 - acc: 0.8385\n",
            "Epoch 33/100\n",
            "63/63 [==============================] - 50s 786ms/step - loss: 0.6551 - acc: 0.8526\n",
            "Epoch 34/100\n",
            "63/63 [==============================] - 49s 786ms/step - loss: 0.6104 - acc: 0.8626\n",
            "Epoch 35/100\n",
            "63/63 [==============================] - 49s 785ms/step - loss: 0.5672 - acc: 0.8731\n",
            "Epoch 36/100\n",
            "63/63 [==============================] - 49s 784ms/step - loss: 0.5254 - acc: 0.8837\n",
            "Epoch 37/100\n",
            "63/63 [==============================] - 49s 785ms/step - loss: 0.4878 - acc: 0.8918\n",
            "Epoch 38/100\n",
            "63/63 [==============================] - 49s 785ms/step - loss: 0.4512 - acc: 0.9003\n",
            "Epoch 39/100\n",
            "63/63 [==============================] - 49s 785ms/step - loss: 0.4152 - acc: 0.9090\n",
            "Epoch 40/100\n",
            "63/63 [==============================] - 49s 783ms/step - loss: 0.3812 - acc: 0.9168\n",
            "Epoch 41/100\n",
            "63/63 [==============================] - 49s 784ms/step - loss: 0.3496 - acc: 0.9252\n",
            "Epoch 42/100\n",
            "63/63 [==============================] - 49s 784ms/step - loss: 0.3198 - acc: 0.9331\n",
            "Epoch 43/100\n",
            "63/63 [==============================] - 49s 784ms/step - loss: 0.2921 - acc: 0.9382\n",
            "Epoch 44/100\n",
            "63/63 [==============================] - 49s 783ms/step - loss: 0.2656 - acc: 0.9452\n",
            "Epoch 45/100\n",
            "63/63 [==============================] - 49s 783ms/step - loss: 0.2392 - acc: 0.9525\n",
            "Epoch 46/100\n",
            "63/63 [==============================] - 49s 783ms/step - loss: 0.2157 - acc: 0.9584\n",
            "Epoch 47/100\n",
            "63/63 [==============================] - 49s 783ms/step - loss: 0.1922 - acc: 0.9649\n",
            "Epoch 48/100\n",
            "63/63 [==============================] - 49s 785ms/step - loss: 0.1712 - acc: 0.9704\n",
            "Epoch 49/100\n",
            "63/63 [==============================] - 49s 784ms/step - loss: 0.1519 - acc: 0.9753\n",
            "Epoch 50/100\n",
            "63/63 [==============================] - 49s 785ms/step - loss: 0.1342 - acc: 0.9797\n",
            "Epoch 51/100\n",
            "63/63 [==============================] - 49s 785ms/step - loss: 0.1187 - acc: 0.9842\n",
            "Epoch 52/100\n",
            "63/63 [==============================] - 49s 783ms/step - loss: 0.1060 - acc: 0.9866\n",
            "Epoch 53/100\n",
            "63/63 [==============================] - 49s 785ms/step - loss: 0.0924 - acc: 0.9896\n",
            "Epoch 54/100\n",
            "63/63 [==============================] - 49s 783ms/step - loss: 0.0812 - acc: 0.9920\n",
            "Epoch 55/100\n",
            "63/63 [==============================] - 49s 783ms/step - loss: 0.0706 - acc: 0.9937\n",
            "Epoch 56/100\n",
            "63/63 [==============================] - 49s 782ms/step - loss: 0.0604 - acc: 0.9954\n",
            "Epoch 57/100\n",
            "63/63 [==============================] - 49s 784ms/step - loss: 0.0529 - acc: 0.9967\n",
            "Epoch 58/100\n",
            "63/63 [==============================] - 49s 784ms/step - loss: 0.0465 - acc: 0.9975\n",
            "Epoch 59/100\n",
            "63/63 [==============================] - 49s 783ms/step - loss: 0.0403 - acc: 0.9983\n",
            "Epoch 60/100\n",
            "63/63 [==============================] - 49s 782ms/step - loss: 0.0355 - acc: 0.9989\n",
            "Epoch 61/100\n",
            "63/63 [==============================] - 49s 784ms/step - loss: 0.0313 - acc: 0.9993\n",
            "Epoch 62/100\n",
            "63/63 [==============================] - 49s 782ms/step - loss: 0.0278 - acc: 0.9993\n",
            "Epoch 63/100\n",
            "63/63 [==============================] - 49s 785ms/step - loss: 0.0250 - acc: 0.9995\n",
            "Epoch 64/100\n",
            "63/63 [==============================] - 49s 783ms/step - loss: 0.0227 - acc: 0.9996\n",
            "Epoch 65/100\n",
            "63/63 [==============================] - 50s 787ms/step - loss: 0.0208 - acc: 0.9996\n",
            "Epoch 66/100\n",
            "63/63 [==============================] - 49s 783ms/step - loss: 0.0189 - acc: 0.9997\n",
            "Epoch 67/100\n",
            "63/63 [==============================] - 49s 784ms/step - loss: 0.0172 - acc: 0.9997\n",
            "Epoch 68/100\n",
            "63/63 [==============================] - 49s 784ms/step - loss: 0.0159 - acc: 0.9998\n",
            "Epoch 69/100\n",
            "63/63 [==============================] - 49s 782ms/step - loss: 0.0148 - acc: 0.9997\n",
            "Epoch 70/100\n",
            "63/63 [==============================] - 49s 783ms/step - loss: 0.0139 - acc: 0.9997\n",
            "Epoch 71/100\n",
            "63/63 [==============================] - 49s 783ms/step - loss: 0.0132 - acc: 0.9997\n",
            "Epoch 72/100\n",
            "63/63 [==============================] - 49s 783ms/step - loss: 0.0123 - acc: 0.9996\n",
            "Epoch 73/100\n",
            "63/63 [==============================] - 49s 783ms/step - loss: 0.0116 - acc: 0.9997\n",
            "Epoch 74/100\n",
            "63/63 [==============================] - 49s 784ms/step - loss: 0.0109 - acc: 0.9998\n",
            "Epoch 75/100\n",
            "63/63 [==============================] - 49s 783ms/step - loss: 0.0102 - acc: 0.9998\n",
            "Epoch 76/100\n",
            "63/63 [==============================] - 49s 782ms/step - loss: 0.0096 - acc: 0.9998\n",
            "Epoch 77/100\n",
            "63/63 [==============================] - 49s 782ms/step - loss: 0.0092 - acc: 0.9998\n",
            "Epoch 78/100\n",
            "63/63 [==============================] - 49s 783ms/step - loss: 0.0086 - acc: 0.9998\n",
            "Epoch 79/100\n",
            "63/63 [==============================] - 49s 782ms/step - loss: 0.0083 - acc: 0.9998\n",
            "Epoch 80/100\n",
            "63/63 [==============================] - 49s 784ms/step - loss: 0.0076 - acc: 0.9998\n",
            "Epoch 81/100\n",
            "63/63 [==============================] - 50s 786ms/step - loss: 0.0072 - acc: 0.9998\n",
            "Epoch 82/100\n",
            "63/63 [==============================] - 49s 782ms/step - loss: 0.0070 - acc: 0.9998\n",
            "Epoch 83/100\n",
            "63/63 [==============================] - 49s 785ms/step - loss: 0.0067 - acc: 0.9998\n",
            "Epoch 84/100\n",
            "63/63 [==============================] - 49s 783ms/step - loss: 0.0064 - acc: 0.9998\n",
            "Epoch 85/100\n",
            "63/63 [==============================] - 49s 781ms/step - loss: 0.0061 - acc: 0.9998\n",
            "Epoch 86/100\n",
            "63/63 [==============================] - 49s 781ms/step - loss: 0.0059 - acc: 0.9998\n",
            "Epoch 87/100\n",
            "63/63 [==============================] - 49s 783ms/step - loss: 0.0057 - acc: 0.9998\n",
            "Epoch 88/100\n",
            "63/63 [==============================] - 49s 785ms/step - loss: 0.0421 - acc: 0.9915\n",
            "Epoch 89/100\n",
            "63/63 [==============================] - 49s 784ms/step - loss: 0.2450 - acc: 0.9246\n",
            "Epoch 90/100\n",
            "63/63 [==============================] - 49s 785ms/step - loss: 0.2047 - acc: 0.9353\n",
            "Epoch 91/100\n",
            "63/63 [==============================] - 50s 787ms/step - loss: 0.0797 - acc: 0.9820\n"
          ]
        }
      ]
    },
    {
      "cell_type": "code",
      "metadata": {
        "colab": {
          "base_uri": "https://localhost:8080/",
          "height": 281
        },
        "id": "ee5AKIgvx-BB",
        "outputId": "ad5075d3-6291-4375-cad1-dd4a0293d4ac"
      },
      "source": [
        "import matplotlib.pyplot as plt\n",
        "plt.title('Training Loss Vs Epochs ' )\n",
        "# plt.plot(history1.history['acc'],label='train_set_acc')\n",
        "plt.plot(history1.history['loss'],label='train_set_loss')\n",
        "plt.legend()\n",
        "plt.show() "
      ],
      "id": "ee5AKIgvx-BB",
      "execution_count": null,
      "outputs": [
        {
          "output_type": "display_data",
          "data": {
            "image/png": "[encoded data removed]",
            "text/plain": [
              "<Figure size 432x288 with 1 Axes>"
            ]
          },
          "metadata": {
            "needs_background": "light"
          }
        }
      ]
    },
    {
      "cell_type": "code",
      "metadata": {
        "colab": {
          "base_uri": "https://localhost:8080/",
          "height": 281
        },
        "id": "DJbYWhhyX4Lo",
        "outputId": "848bf5a4-57be-4fcc-f688-5064bee666a0"
      },
      "source": [
        "import matplotlib.pyplot as plt\n",
        "plt.title('Training Loss Vs Epochs ' )\n",
        "plt.plot(history1.history['acc'],label='train_set_acc')\n",
        "# plt.plot(history1.history['loss'],label='train_set_loss')\n",
        "plt.legend()\n",
        "plt.show() "
      ],
      "id": "DJbYWhhyX4Lo",
      "execution_count": null,
      "outputs": [
        {
          "output_type": "display_data",
          "data": {
            "image/png": "[encoded data removed]",
            "text/plain": [
              "<Figure size 432x288 with 1 Axes>"
            ]
          },
          "metadata": {
            "needs_background": "light"
          }
        }
      ]
    },
    {
      "cell_type": "code",
      "metadata": {
        "id": "_EHsBQ8Gj22c"
      },
      "source": [
        "# tf.keras.models.save_model(model , \"/content/drive/MyDrive/DATA/pawan/ADL_P1/LSTM_rec\")"
      ],
      "id": "_EHsBQ8Gj22c",
      "execution_count": null,
      "outputs": []
    },
    {
      "cell_type": "code",
      "metadata": {
        "id": "6hMR3sySPOOf"
      },
      "source": [
        "model = tf.keras.models.load_model(\"/content/drive/MyDrive/DATA/pawan/ADL_P1/LSTM_rec\")"
      ],
      "id": "6hMR3sySPOOf",
      "execution_count": 9,
      "outputs": []
    },
    {
      "cell_type": "code",
      "metadata": {
        "id": "o-pqUCIs-S-d"
      },
      "source": [
        "import nltk\n",
        "\n",
        "latent_dim=512\n",
        "encoder_inputs = model.input[0]\n",
        "sent_emb1 = model.layers[1].output\n",
        "\n",
        "encoder_model = Model(encoder_inputs, sent_emb1)\n"
      ],
      "id": "o-pqUCIs-S-d",
      "execution_count": 10,
      "outputs": []
    },
    {
      "cell_type": "code",
      "metadata": {
        "id": "SxSLtLE41aKZ"
      },
      "source": [
        "sent_emb = []\n",
        "def decode_sequence(input_seq):\n",
        "    temp = encoder_model.predict(input_seq)\n",
        "    sent_emb.append(temp[0])\n",
        "\n",
        "for seq_index in range(len(encoder_input_data)):\n",
        "    input_seq = encoder_input_data[seq_index: seq_index + 1]\n",
        "    if(seq_index%1000 == 0):\n",
        "      print(seq_index)\n",
        "    decode_sequence(input_seq)\n",
        "       "
      ],
      "id": "SxSLtLE41aKZ",
      "execution_count": null,
      "outputs": []
    },
    {
      "cell_type": "code",
      "metadata": {
        "id": "uuTc_qUxOvkE"
      },
      "source": [
        "# np.save(\"/content/drive/MyDrive/DATA/pawan/ADL_P1/temp_LSTM_sent_embedding\", sent_emb)"
      ],
      "id": "uuTc_qUxOvkE",
      "execution_count": null,
      "outputs": []
    },
    {
      "cell_type": "code",
      "metadata": {
        "id": "ijrF2MTvRkRH"
      },
      "source": [
        "sent_emb = np.load(\"/content/drive/MyDrive/DATA/pawan/ADL_P1/temp_LSTM_sent_embedding.npy\",  allow_pickle=True)"
      ],
      "id": "ijrF2MTvRkRH",
      "execution_count": 11,
      "outputs": []
    },
    {
      "cell_type": "code",
      "metadata": {
        "id": "16xoagi7Kq8X"
      },
      "source": [
        "sentence_embeddings = []\n",
        "i = 0\n",
        "while(i < 4010):\n",
        "  sentence_embeddings.append(np.asarray(sent_emb[i]).reshape(-1))\n",
        "  i = i + 1\n"
      ],
      "id": "16xoagi7Kq8X",
      "execution_count": 12,
      "outputs": []
    },
    {
      "cell_type": "code",
      "metadata": {
        "colab": {
          "base_uri": "https://localhost:8080/"
        },
        "id": "LOelkP7YL40x",
        "outputId": "71afdec7-d830-48e7-bb9b-8678c9ed8578"
      },
      "source": [
        "np.asarray(sentence_embeddings).shape"
      ],
      "id": "LOelkP7YL40x",
      "execution_count": null,
      "outputs": [
        {
          "output_type": "execute_result",
          "data": {
            "text/plain": [
              "(4010, 102400)"
            ]
          },
          "metadata": {},
          "execution_count": 37
        }
      ]
    },
    {
      "cell_type": "code",
      "metadata": {
        "id": "YNPYECSdBA_F"
      },
      "source": [
        "def get_query_emb(input_seq):\n",
        "    temp = encoder_model.predict(input_seq)\n",
        "    return temp[0]"
      ],
      "id": "YNPYECSdBA_F",
      "execution_count": 13,
      "outputs": []
    },
    {
      "cell_type": "code",
      "metadata": {
        "id": "3ThD39wRSF24"
      },
      "source": [
        "from operator import itemgetter\n",
        "import scipy \n",
        "def get_recommendation(seq_index):\n",
        "  queries = encoder_input_data[seq_index: seq_index + 1]\n",
        "  query_embeddings = get_query_emb(queries)\n",
        "  query_embeddings = query_embeddings.reshape(-1)\n",
        "  new_emb = []\n",
        "  new_emb.append(query_embeddings)\n",
        "  number_top_matches = 10\n",
        "  for query, query_embedding in zip(queries, new_emb):\n",
        "      distances = scipy.spatial.distance.cdist(new_emb, sentence_embeddings, \"cosine\")[0]\n",
        "      results = zip(range(len(distances)), distances)\n",
        "      results = sorted(results, key=lambda x: x[1])\n",
        "\n",
        "      print(\"\\n\\n======================\\n\\n\")\n",
        "      list = target_lines[seq_index]\n",
        "      str1 = ' '.join(list)\n",
        "      print( \"Query : \",str1 )\n",
        "      # print(\"\\nTop 10 most similar sentences in corpus:\")\n",
        "      temp = []\n",
        "      # temp2 = {}\n",
        "      for idx, distance in results[0:number_top_matches]:\n",
        "        list = target_lines[idx]\n",
        "        str1 = ' '.join(list)\n",
        "        # temp2[1-distance] = str1\n",
        "        temp.append(str1)\n",
        "      # temp = sorted(temp2.items(), key = itemgetter(0), reverse=True)\n",
        "      return temp"
      ],
      "id": "3ThD39wRSF24",
      "execution_count": 73,
      "outputs": []
    },
    {
      "cell_type": "code",
      "metadata": {
        "id": "Jc5BzvSf_Ei-",
        "cellView": "code",
        "colab": {
          "base_uri": "https://localhost:8080/"
        },
        "outputId": "9ed46b02-6f82-474c-d508-2861d09165b0"
      },
      "source": [
        "seq_index = 1136\n",
        "get_recommendation(seq_index)\n"
      ],
      "id": "Jc5BzvSf_Ei-",
      "execution_count": 74,
      "outputs": [
        {
          "output_type": "stream",
          "name": "stdout",
          "text": [
            "\n",
            "\n",
            "======================\n",
            "\n",
            "\n",
            "Query :  A Neural Approach to Blind Motion Deblurring\n"
          ]
        },
        {
          "output_type": "execute_result",
          "data": {
            "text/plain": [
              "['A Neural Approach to Blind Motion Deblurring',\n",
              " 'Abnormal Event Detection in Videos using Spatiotemporal Autoencoder',\n",
              " 'AdaScan: Adaptive Scan Pooling in Deep Convolutional Neural Networks for\\n  Human Action Recognition in Videos',\n",
              " 'Seed, Expand and Constrain: Three Principles for Weakly-Supervised Image\\n  Segmentation',\n",
              " 'Hashmod: A Hashing Method for Scalable 3D Object Detection',\n",
              " 'Enhanced Object Detection via Fusion With Prior Beliefs from Image\\n  Classification',\n",
              " 'Video Interpolation using Optical Flow and Laplacian Smoothness',\n",
              " 'The More You Know: Using Knowledge Graphs for Image Classification',\n",
              " 'A reliable order-statistics-based approximate nearest neighbor search\\n  algorithm',\n",
              " 'Human Pose Estimation in Space and Time using 3D CNN']"
            ]
          },
          "metadata": {},
          "execution_count": 74
        }
      ]
    },
    {
      "cell_type": "code",
      "metadata": {
        "colab": {
          "base_uri": "https://localhost:8080/"
        },
        "id": "BdpaxzxH-R6m",
        "outputId": "ccadd732-b081-4130-c32c-4fb3508689eb"
      },
      "source": [
        "seq_index = 3652\n",
        "get_recommendation(seq_index)"
      ],
      "id": "BdpaxzxH-R6m",
      "execution_count": 66,
      "outputs": [
        {
          "output_type": "stream",
          "name": "stdout",
          "text": [
            "\n",
            "\n",
            "======================\n",
            "\n",
            "\n",
            "Query :  Deep Convolutional Poses for Human Interaction Recognition in Monocular\n",
            "  Videos\n"
          ]
        },
        {
          "output_type": "execute_result",
          "data": {
            "text/plain": [
              "['Deep Convolutional Poses for Human Interaction Recognition in Monocular\\n  Videos',\n",
              " 'Graph Construction with Label Information for Semi-Supervised Learning',\n",
              " 'Approaching the Computational Color Constancy as a Classification\\n  Problem through Deep Learning',\n",
              " 'Deep convolutional neural networks for pedestrian detection',\n",
              " 'The Role of Typicality in Object Classification: Improving The\\n  Generalization Capacity of Convolutional Neural Networks',\n",
              " 'Towards Better Analysis of Deep Convolutional Neural Networks',\n",
              " 'A Data-driven Approach for Human Pose Tracking Based on Spatio-temporal\\n  Pictorial Structure',\n",
              " 'Fast and Provably Accurate Bilateral Filtering',\n",
              " 'Texture Synthesis with Spatial Generative Adversarial Networks',\n",
              " 'Detecting events and key actors in multi-person videos']"
            ]
          },
          "metadata": {},
          "execution_count": 66
        }
      ]
    },
    {
      "cell_type": "code",
      "metadata": {
        "colab": {
          "base_uri": "https://localhost:8080/"
        },
        "id": "Jlrdd9SR8xQm",
        "outputId": "91a0a80e-9962-4350-d713-88e90d63726a"
      },
      "source": [
        "seq_index = 2088\n",
        "get_recommendation(seq_index)"
      ],
      "id": "Jlrdd9SR8xQm",
      "execution_count": 67,
      "outputs": [
        {
          "output_type": "stream",
          "name": "stdout",
          "text": [
            "\n",
            "\n",
            "======================\n",
            "\n",
            "\n",
            "Query :  Persistent Homology on Grassmann Manifolds for Analysis of Hyperspectral\n",
            "  Movies\n"
          ]
        },
        {
          "output_type": "execute_result",
          "data": {
            "text/plain": [
              "['Persistent Homology on Grassmann Manifolds for Analysis of Hyperspectral\\n  Movies',\n",
              " 'Supervised multiview learning based on simultaneous learning of\\n  multiview intact and single view classifier',\n",
              " 'Where to Focus: Query Adaptive Matching for Instance Retrieval Using\\n  Convolutional Feature Maps',\n",
              " 'Efficient Discriminative Nonorthogonal Binary Subspace with its\\n  Application to Visual Tracking',\n",
              " 'Novel Views of Objects from a Single Image',\n",
              " 'Dual Principal Component Pursuit',\n",
              " 'Pandora: Description of a Painting Database for Art Movement Recognition\\n  with Baselines and Perspectives',\n",
              " 'Laplacian regularized low rank subspace clustering',\n",
              " 'Comprehensive Feature-based Robust Video Fingerprinting Using Tensor\\n  Model',\n",
              " 'A Dataset for Improved RGBD-based Object Detection and Pose Estimation\\n  for Warehouse Pick-and-Place']"
            ]
          },
          "metadata": {},
          "execution_count": 67
        }
      ]
    },
    {
      "cell_type": "code",
      "metadata": {
        "colab": {
          "base_uri": "https://localhost:8080/"
        },
        "id": "J1dVELX3gEBN",
        "outputId": "f8d6774b-cfdd-4ce5-8f13-f36dae5cd804"
      },
      "source": [
        "seq_index = 3848\n",
        "get_recommendation(seq_index)"
      ],
      "id": "J1dVELX3gEBN",
      "execution_count": 72,
      "outputs": [
        {
          "output_type": "stream",
          "name": "stdout",
          "text": [
            "\n",
            "\n",
            "======================\n",
            "\n",
            "\n",
            "Query :  Learning Quadrupedal Locomotion over Challenging Terrain\n"
          ]
        },
        {
          "output_type": "execute_result",
          "data": {
            "text/plain": [
              "['Learning Quadrupedal Locomotion over Challenging Terrain',\n",
              " 'A Concave Optimization Algorithm for Matching Partially Overlapping\\n  Point Sets',\n",
              " 'Statistics of RGBD Images',\n",
              " 'Automatic Segmentation of Dynamic Objects from an Image Pair',\n",
              " 'Deep convolutional neural networks for pedestrian detection',\n",
              " 'Image denoising via group sparsity residual constraint',\n",
              " 'Predicting the Category and Attributes of Visual Search Targets Using\\n  Deep Gaze Pooling',\n",
              " 'Greedy Structure Learning of Hierarchical Compositional Models',\n",
              " 'A Data-driven Approach for Human Pose Tracking Based on Spatio-temporal\\n  Pictorial Structure',\n",
              " 'Predicting Face Recognition Performance Using Image Quality']"
            ]
          },
          "metadata": {},
          "execution_count": 72
        }
      ]
    },
    {
      "cell_type": "code",
      "metadata": {
        "colab": {
          "base_uri": "https://localhost:8080/"
        },
        "id": "OIuDY1NH9niG",
        "outputId": "b9e7c6b1-2ae4-4fa5-b47d-91b176520e4e"
      },
      "source": [
        "seq_index = 1038\n",
        "get_recommendation(seq_index)"
      ],
      "id": "OIuDY1NH9niG",
      "execution_count": 68,
      "outputs": [
        {
          "output_type": "stream",
          "name": "stdout",
          "text": [
            "\n",
            "\n",
            "======================\n",
            "\n",
            "\n",
            "Query :  US-Cut: Interactive Algorithm for rapid Detection and Segmentation of\n",
            "  Liver Tumors in Ultrasound Acquisitions\n"
          ]
        },
        {
          "output_type": "execute_result",
          "data": {
            "text/plain": [
              "['US-Cut: Interactive Algorithm for rapid Detection and Segmentation of\\n  Liver Tumors in Ultrasound Acquisitions',\n",
              " 'Novel Views of Objects from a Single Image',\n",
              " 'Adaptive Algorithm and Platform Selection for Visual Detection and\\n  Tracking',\n",
              " 'Hierarchical Deep Learning Architecture For 10K Objects Classification',\n",
              " 'Human Action Recognition using Factorized Spatio-Temporal Convolutional\\n  Networks',\n",
              " 'Saliency Driven Object recognition in egocentric videos with deep CNN',\n",
              " 'Where to Focus: Query Adaptive Matching for Instance Retrieval Using\\n  Convolutional Feature Maps',\n",
              " 'Using Filter Banks in Convolutional Neural Networks for Texture\\n  Classification',\n",
              " 'UnrealStereo: Controlling Hazardous Factors to Analyze Stereo Vision',\n",
              " 'Sketch-based Image Retrieval from Millions of Images under Rotation,\\n  Translation and Scale Variations']"
            ]
          },
          "metadata": {},
          "execution_count": 68
        }
      ]
    },
    {
      "cell_type": "code",
      "metadata": {
        "id": "7W7jUzYi-S1M",
        "colab": {
          "base_uri": "https://localhost:8080/",
          "height": 363
        },
        "outputId": "45fb87ec-473f-4388-9805-3d04c94d1dc7"
      },
      "source": [
        "import nltk\n",
        "BleuScore = 0\n",
        "sent_length = 200\n",
        "num_sample =  len(encoder_input_data)\n",
        "sentence_emb = []\n",
        "def decode_sequence(input_seq):\n",
        "    \n",
        "    abstract_emb = encoder_model.predict(input_seq)\n",
        "    temp = []\n",
        "    target_seq = np.zeros((1, 1))\n",
        "    \n",
        "    target_seq[0, 0] = 1\n",
        "    \n",
        "    stop_condition = False\n",
        "    decoded_sentence = []\n",
        "\n",
        "    while not stop_condition:\n",
        "\n",
        "        output_tokens, h, c = decoder_model.predict([target_seq] + states_value)\n",
        "        temp.append(c)\n",
        "\n",
        "        # Sample a token\n",
        "        sampled_token_index = np.argmax(output_tokens[0, -1, :])\n",
        "        #print(\"sampled_token_index\",sampled_token_index)\n",
        "        sampled_char = index2token[sampled_token_index]\n",
        "        #print(\"sampled_char\",sampled_char)\n",
        "        \n",
        "\n",
        "        # # Exit condition: either hit max length\n",
        "        # # or find stop character.\n",
        "        \n",
        "        if sampled_char == 'EOS' or len(decoded_sentence) > sent_length:\n",
        "          stop_condition = True\n",
        "        else:\n",
        "          decoded_sentence.append(sampled_char)\n",
        "        \n",
        "\n",
        "\n",
        "        # # Update the target sequence (of length 1).\n",
        "        target_seq = np.zeros((1, 1))\n",
        "        target_seq[0, 0] = sampled_token_index\n",
        "\n",
        "        states_value = [h, c]\n",
        "    sentence_emb.append(temp)\n",
        "    return decoded_sentence\n",
        "\n",
        "for seq_index in range(2):\n",
        "    input_seq = encoder_input_data[2008+seq_index: 2008+seq_index + 1]\n",
        "    if(seq_index%1000 == 0):\n",
        "      print(seq_index)\n",
        "    # print('Input sentence length : ', encoder_input_data[seq_index].size)\n",
        "    decoded_sentence = decode_sequence(input_seq)\n",
        "  \n",
        "    # print('-',seq_index)\n",
        "    # print('Input sentence:      ', input_valid_lines[seq_index].split(' '))\n",
        "    print('Decoded sentence:    ', decoded_sentence)\n"
      ],
      "id": "7W7jUzYi-S1M",
      "execution_count": 69,
      "outputs": [
        {
          "output_type": "stream",
          "name": "stdout",
          "text": [
            "0\n"
          ]
        },
        {
          "output_type": "error",
          "ename": "NameError",
          "evalue": "ignored",
          "traceback": [
            "\u001b[0;31m---------------------------------------------------------------------------\u001b[0m",
            "\u001b[0;31mNameError\u001b[0m                                 Traceback (most recent call last)",
            "\u001b[0;32m<ipython-input-69-38d2e222c16b>\u001b[0m in \u001b[0;36m<module>\u001b[0;34m()\u001b[0m\n\u001b[1;32m     50\u001b[0m       \u001b[0mprint\u001b[0m\u001b[0;34m(\u001b[0m\u001b[0mseq_index\u001b[0m\u001b[0;34m)\u001b[0m\u001b[0;34m\u001b[0m\u001b[0;34m\u001b[0m\u001b[0m\n\u001b[1;32m     51\u001b[0m     \u001b[0;31m# print('Input sentence length : ', encoder_input_data[seq_index].size)\u001b[0m\u001b[0;34m\u001b[0m\u001b[0;34m\u001b[0m\u001b[0;34m\u001b[0m\u001b[0m\n\u001b[0;32m---> 52\u001b[0;31m     \u001b[0mdecoded_sentence\u001b[0m \u001b[0;34m=\u001b[0m \u001b[0mdecode_sequence\u001b[0m\u001b[0;34m(\u001b[0m\u001b[0minput_seq\u001b[0m\u001b[0;34m)\u001b[0m\u001b[0;34m\u001b[0m\u001b[0;34m\u001b[0m\u001b[0m\n\u001b[0m\u001b[1;32m     53\u001b[0m \u001b[0;34m\u001b[0m\u001b[0m\n\u001b[1;32m     54\u001b[0m     \u001b[0;31m# print('-',seq_index)\u001b[0m\u001b[0;34m\u001b[0m\u001b[0;34m\u001b[0m\u001b[0;34m\u001b[0m\u001b[0m\n",
            "\u001b[0;32m<ipython-input-69-38d2e222c16b>\u001b[0m in \u001b[0;36mdecode_sequence\u001b[0;34m(input_seq)\u001b[0m\n\u001b[1;32m     17\u001b[0m     \u001b[0;32mwhile\u001b[0m \u001b[0;32mnot\u001b[0m \u001b[0mstop_condition\u001b[0m\u001b[0;34m:\u001b[0m\u001b[0;34m\u001b[0m\u001b[0;34m\u001b[0m\u001b[0m\n\u001b[1;32m     18\u001b[0m \u001b[0;34m\u001b[0m\u001b[0m\n\u001b[0;32m---> 19\u001b[0;31m         \u001b[0moutput_tokens\u001b[0m\u001b[0;34m,\u001b[0m \u001b[0mh\u001b[0m\u001b[0;34m,\u001b[0m \u001b[0mc\u001b[0m \u001b[0;34m=\u001b[0m \u001b[0mdecoder_model\u001b[0m\u001b[0;34m.\u001b[0m\u001b[0mpredict\u001b[0m\u001b[0;34m(\u001b[0m\u001b[0;34m[\u001b[0m\u001b[0mtarget_seq\u001b[0m\u001b[0;34m]\u001b[0m \u001b[0;34m+\u001b[0m \u001b[0mstates_value\u001b[0m\u001b[0;34m)\u001b[0m\u001b[0;34m\u001b[0m\u001b[0;34m\u001b[0m\u001b[0m\n\u001b[0m\u001b[1;32m     20\u001b[0m         \u001b[0mtemp\u001b[0m\u001b[0;34m.\u001b[0m\u001b[0mappend\u001b[0m\u001b[0;34m(\u001b[0m\u001b[0mc\u001b[0m\u001b[0;34m)\u001b[0m\u001b[0;34m\u001b[0m\u001b[0;34m\u001b[0m\u001b[0m\n\u001b[1;32m     21\u001b[0m \u001b[0;34m\u001b[0m\u001b[0m\n",
            "\u001b[0;31mNameError\u001b[0m: name 'decoder_model' is not defined"
          ]
        }
      ]
    }
  ]
}